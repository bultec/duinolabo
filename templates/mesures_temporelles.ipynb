{
 "cells": [
  {
   "attachments": {
    "ec99dac2-be3d-49c3-96b7-20c6a5ee6525.png": {
     "image/png": "[encoded data removed]"
    }
   },
   "cell_type": "markdown",
   "id": "da6cf72c-ea57-4f77-92c2-cfbb95748560",
   "metadata": {},
   "source": [
    "## Montage en mode automatique\n",
    "\n",
    "Dans ce montage, c'est le programme qui déclenche la charge ou la décharge du condensateur en plaçant le pin 3 l'état haut ou à l'état bas au début des mesures.\n",
    "![image_2.png](attachment:ec99dac2-be3d-49c3-96b7-20c6a5ee6525.png)"
   ]
  },
  {
   "cell_type": "code",
   "execution_count": 4,
   "id": "99aa9ff7",
   "metadata": {
    "tags": []
   },
   "outputs": [
    {
     "name": "stdout",
     "output_type": "stream",
     "text": [
      "['COM1']\n"
     ]
    }
   ],
   "source": [
    "from pduino import *\n",
    "from juduino import *\n",
    "print(liste_ports())"
   ]
  },
  {
   "cell_type": "code",
   "execution_count": 5,
   "id": "99b1a2db",
   "metadata": {
    "tags": []
   },
   "outputs": [
    {
     "data": {
      "application/vnd.jupyter.widget-view+json": {
       "model_id": "74c734dd85464801aa6deb2fc4580d54",
       "version_major": 2,
       "version_minor": 0
      },
      "text/plain": [
       "VBox(children=(HBox(children=(Button(button_style='danger', description='Arduino', style=ButtonStyle()), Butto…"
      ]
     },
     "metadata": {},
     "output_type": "display_data"
    }
   ],
   "source": [
    "# --- condensateur charge auto ---\n",
    "\n",
    "# modifiez le port en fonction de votre configuration\n",
    "mon_interface = Interface('COM21', [('t', 's'), ('E', 'V'), ('uc', 'V')], 'temporel')\n",
    "'''dans le cas d'une charge rapide:\n",
    "   my_int = Interface('COM21', [('t', 's'), ('E', 'V'), ('uc', 'V')], 'temporel', False)\n",
    "'''\n",
    "\n",
    "def action_1():\n",
    "     # exécuté lorsque l'utilisateur clique sur le bouton 'Charge'\n",
    "    global t, X, Y\n",
    "    t, X, Y = mon_interface.mesures_tempo('...', 2)\n",
    "    \n",
    "def action_2():\n",
    "     # exécuté lorsque l'utilisateur clique sur le bouton 'Décharge'\n",
    "    global t, X, Y\n",
    "    t, X, Y = mon_interface.mesures_tempo('...', 2)\n",
    "\n",
    "def sauvegarde():\n",
    "     # exécuté lorsque l'utilisateur clique sur le bouton 'Sauvegarde'\n",
    "    fichier = saisie.value + '.csv'\n",
    "    ecrit_fichier_csv(fichier, t, X, Y)\n",
    "    print('fichier {} créé'.format(fichier))\n",
    "    \n",
    "def affiche():\n",
    "    n = 90\n",
    "    if len(t) > 0:\n",
    "        print(liste_valeurs('t', t, n))\n",
    "        print(liste_valeurs('X', X, n))\n",
    "        print(liste_valeurs('Y', Y, n))   \n",
    "    \n",
    "# --- programme principal\n",
    "mon_interface.add_bouton('Action 1', action_1)\n",
    "mon_interface.add_bouton('Action 2', action_2)\n",
    "saisie = mon_interface.add_saisie('Nom Fichier', 'mesures')\n",
    "mon_interface.add_bouton('Sauvegarde', sauvegarde)\n",
    "mon_interface.add_bouton('Affiche listes', affiche)\n",
    "mon_interface.affiche()"
   ]
  }
 ],
 "metadata": {
  "kernelspec": {
   "display_name": "Python 3",
   "language": "python",
   "name": "python3"
  },
  "language_info": {
   "codemirror_mode": {
    "name": "ipython",
    "version": 3
   },
   "file_extension": ".py",
   "mimetype": "text/x-python",
   "name": "python",
   "nbconvert_exporter": "python",
   "pygments_lexer": "ipython3",
   "version": "3.7.3"
  },
  "widgets": {
   "application/vnd.jupyter.widget-state+json": {
    "state": {
     "0e9f536f48854e6bb947cf577146770f": {
      "model_module": "@jupyter-widgets/base",
      "model_module_version": "2.0.0",
      "model_name": "LayoutModel",
      "state": {
       "margin": "20px 0 0 20px"
      }
     },
     "12fff539dcea46d0bfaf715b1be5c052": {
      "model_module": "@jupyter-widgets/controls",
      "model_module_version": "2.0.0",
      "model_name": "VBoxModel",
      "state": {
       "children": [
        "IPY_MODEL_f84bdf9881ff47cd84746c30658b92d3",
        "IPY_MODEL_620457ab51f9465e888cea8fd5d23882"
       ],
       "layout": "IPY_MODEL_943bbb9404cf4da8a27229d1917bf02e"
      }
     },
     "1b3668093596484a82450ef1d3ec42b2": {
      "model_module": "@jupyter-widgets/base",
      "model_module_version": "2.0.0",
      "model_name": "LayoutModel",
      "state": {
       "width": "200px"
      }
     },
     "216318e2eb7947c28fb2654d1e23acf8": {
      "model_module": "@jupyter-widgets/controls",
      "model_module_version": "2.0.0",
      "model_name": "ButtonModel",
      "state": {
       "button_style": "success",
       "description": "Arduino",
       "icon": "check",
       "layout": "IPY_MODEL_dc316520cf174c01ad256acf079d5e31",
       "style": "IPY_MODEL_3dc037487159491599721b818c635675",
       "tooltip": null
      }
     },
     "27bbe69a54ed4dcebc947f94760c40ce": {
      "model_module": "@jupyter-widgets/controls",
      "model_module_version": "2.0.0",
      "model_name": "ButtonStyleModel",
      "state": {
       "font_family": null,
       "font_size": null,
       "font_style": null,
       "font_variant": null,
       "font_weight": null,
       "text_color": null,
       "text_decoration": null
      }
     },
     "3dc037487159491599721b818c635675": {
      "model_module": "@jupyter-widgets/controls",
      "model_module_version": "2.0.0",
      "model_name": "ButtonStyleModel",
      "state": {
       "font_family": null,
       "font_size": null,
       "font_style": null,
       "font_variant": null,
       "font_weight": null,
       "text_color": null,
       "text_decoration": null
      }
     },
     "4904c540529c4a258abe3ae9c25639a1": {
      "model_module": "@jupyter-widgets/controls",
      "model_module_version": "2.0.0",
      "model_name": "TextModel",
      "state": {
       "description": "Nom Fichier",
       "layout": "IPY_MODEL_1b3668093596484a82450ef1d3ec42b2",
       "style": "IPY_MODEL_be46d9d2b697478e9d3314466ec3dbb0",
       "value": "mesures"
      }
     },
     "540437da44bc4249a8c4621b606505c0": {
      "model_module": "@jupyter-widgets/controls",
      "model_module_version": "2.0.0",
      "model_name": "ButtonStyleModel",
      "state": {
       "font_family": null,
       "font_size": null,
       "font_style": null,
       "font_variant": null,
       "font_weight": null,
       "text_color": null,
       "text_decoration": null
      }
     },
     "54b4e4e4b14545c9b6354cf487c47115": {
      "model_module": "@jupyter-widgets/controls",
      "model_module_version": "2.0.0",
      "model_name": "IntProgressModel",
      "state": {
       "description": "Loading:",
       "layout": "IPY_MODEL_d4069d07a0ac4296b1524f4411f9b2f6",
       "max": 10,
       "style": "IPY_MODEL_7066d8d89fca4b458a25007ef9111a2d",
       "value": 6
      }
     },
     "620457ab51f9465e888cea8fd5d23882": {
      "model_module": "@jupyter-widgets/controls",
      "model_module_version": "2.0.0",
      "model_name": "HBoxModel",
      "state": {
       "children": [
        "IPY_MODEL_974c09f304eb419f9d860ffcca16e83e",
        "IPY_MODEL_b1c90127019e45809bea7b121f01cad5"
       ],
       "layout": "IPY_MODEL_b5b5108c7f4945259f123ca65e293ca2"
      }
     },
     "7066d8d89fca4b458a25007ef9111a2d": {
      "model_module": "@jupyter-widgets/controls",
      "model_module_version": "2.0.0",
      "model_name": "ProgressStyleModel",
      "state": {
       "description_width": ""
      }
     },
     "8628403b23b248f8bea3195eef5c01de": {
      "model_module": "@jupyter-widgets/controls",
      "model_module_version": "2.0.0",
      "model_name": "ButtonModel",
      "state": {
       "description": "Sauvegarde",
       "layout": "IPY_MODEL_e33909cc51c944f9832cf7f10badccf0",
       "style": "IPY_MODEL_27bbe69a54ed4dcebc947f94760c40ce",
       "tooltip": null
      }
     },
     "943bbb9404cf4da8a27229d1917bf02e": {
      "model_module": "@jupyter-widgets/base",
      "model_module_version": "2.0.0",
      "model_name": "LayoutModel",
      "state": {}
     },
     "974c09f304eb419f9d860ffcca16e83e": {
      "model_module": "@jupyter-widgets/output",
      "model_module_version": "1.0.0",
      "model_name": "OutputModel",
      "state": {
       "layout": "IPY_MODEL_ee68dda4744d46f086ec345027ceffd7",
       "outputs": [
        {
         "data": {
          "image/png": "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\n",
          "text/plain": "<Figure size 648x504 with 1 Axes>"
         },
         "metadata": {
          "needs_background": "light"
         },
         "output_type": "display_data"
        }
       ]
      }
     },
     "b17f6974a69640109859c51aafb43fc1": {
      "model_module": "@jupyter-widgets/base",
      "model_module_version": "2.0.0",
      "model_name": "LayoutModel",
      "state": {}
     },
     "b1c90127019e45809bea7b121f01cad5": {
      "model_module": "@jupyter-widgets/output",
      "model_module_version": "1.0.0",
      "model_name": "OutputModel",
      "state": {
       "layout": "IPY_MODEL_0e9f536f48854e6bb947cf577146770f"
      }
     },
     "b206b55c351f40eda41117e6975c1c25": {
      "model_module": "@jupyter-widgets/base",
      "model_module_version": "2.0.0",
      "model_name": "LayoutModel",
      "state": {}
     },
     "b5b5108c7f4945259f123ca65e293ca2": {
      "model_module": "@jupyter-widgets/base",
      "model_module_version": "2.0.0",
      "model_name": "LayoutModel",
      "state": {}
     },
     "be46d9d2b697478e9d3314466ec3dbb0": {
      "model_module": "@jupyter-widgets/controls",
      "model_module_version": "2.0.0",
      "model_name": "TextStyleModel",
      "state": {
       "description_width": "initial",
       "font_size": null,
       "text_color": null
      }
     },
     "cdb907ed92c2429daeeff83dfda91ea4": {
      "model_module": "@jupyter-widgets/controls",
      "model_module_version": "2.0.0",
      "model_name": "ButtonModel",
      "state": {
       "description": "Charge",
       "layout": "IPY_MODEL_b17f6974a69640109859c51aafb43fc1",
       "style": "IPY_MODEL_540437da44bc4249a8c4621b606505c0",
       "tooltip": null
      }
     },
     "d4069d07a0ac4296b1524f4411f9b2f6": {
      "model_module": "@jupyter-widgets/base",
      "model_module_version": "2.0.0",
      "model_name": "LayoutModel",
      "state": {}
     },
     "dc316520cf174c01ad256acf079d5e31": {
      "model_module": "@jupyter-widgets/base",
      "model_module_version": "2.0.0",
      "model_name": "LayoutModel",
      "state": {}
     },
     "e33909cc51c944f9832cf7f10badccf0": {
      "model_module": "@jupyter-widgets/base",
      "model_module_version": "2.0.0",
      "model_name": "LayoutModel",
      "state": {}
     },
     "ee68dda4744d46f086ec345027ceffd7": {
      "model_module": "@jupyter-widgets/base",
      "model_module_version": "2.0.0",
      "model_name": "LayoutModel",
      "state": {}
     },
     "f84bdf9881ff47cd84746c30658b92d3": {
      "model_module": "@jupyter-widgets/controls",
      "model_module_version": "2.0.0",
      "model_name": "HBoxModel",
      "state": {
       "children": [
        "IPY_MODEL_216318e2eb7947c28fb2654d1e23acf8",
        "IPY_MODEL_cdb907ed92c2429daeeff83dfda91ea4",
        "IPY_MODEL_4904c540529c4a258abe3ae9c25639a1",
        "IPY_MODEL_8628403b23b248f8bea3195eef5c01de",
        "IPY_MODEL_54b4e4e4b14545c9b6354cf487c47115"
       ],
       "layout": "IPY_MODEL_b206b55c351f40eda41117e6975c1c25"
      }
     }
    },
    "version_major": 2,
    "version_minor": 0
   }
  }
 },
 "nbformat": 4,
 "nbformat_minor": 5
}
