{
 "cells": [
  {
   "cell_type": "code",
   "execution_count": 1,
   "id": "26704a67",
   "metadata": {
    "tags": []
   },
   "outputs": [
    {
     "data": {
      "application/vnd.jupyter.widget-view+json": {
       "model_id": "18fd5097d9db497d8f27dd138285e9c5",
       "version_major": 2,
       "version_minor": 0
      },
      "text/plain": [
       "VBox(children=(HBox(children=(Button(button_style='danger', description='Arduino', style=ButtonStyle()), Text(…"
      ]
     },
     "metadata": {},
     "output_type": "display_data"
    }
   ],
   "source": [
    "from pduino import *\n",
    "from juduino import *\n",
    "\n",
    "# modifiez le port en fonction de votre configuration\n",
    "mon_interface = Interface('COM21', [('...', '...'), ('...', '...')], 'points')\n",
    "\n",
    "def mon_acquisition():\n",
    "    x = int(saisie.value)\n",
    "    y = float(mon_interface.set_command('...'))\n",
    "    print('x = {:.1f} ... ; y = {:.2f} ...'.format(x, y))\n",
    "    mon_interface_ponctuelle.ajoute_point(x, y)\n",
    "    \n",
    "    \n",
    "def supp_dernier_point():\n",
    "    if mon_interface.supprime_dernier_point():\n",
    "        print(\"Dernier point supprimé\")\n",
    "    else:\n",
    "        print('Pas de dernier point')\n",
    "    \n",
    "def sauvegarde():\n",
    "    fichier = nom_fic.value + '.csv'\n",
    "    X, Y = mon_interface.get_valeurs()\n",
    "    ecrit_fichier_csv(fichier, X, Y)\n",
    "    print('fichier {} créé'.format(fichier))\n",
    "    \n",
    "def affiche():\n",
    "    n = 90\n",
    "    X, Y = mon_interface.get_valeurs()\n",
    "    if len(X) > 0:\n",
    "        print(liste_valeurs('X', X, n))\n",
    "        print(liste_valeurs('Y', Y, n))\n",
    "    \n",
    "# ---    \n",
    "saisie = mon_interface.add_saisie('X (S.I.)', '60')\n",
    "mon_interface.add_bouton('Mesure', mon_acquisition)\n",
    "mon_interface.add_bouton('Supp. dernier point', supp_dernier_point)\n",
    "nom_fic = mon_interface.add_saisie('Nom fichier', 'mesures')\n",
    "mon_interface.add_bouton('Sauvegarde', sauvegarde)\n",
    "mon_interface.add_bouton('Affiche listes', affiche)\n",
    "mon_interface.affiche()"
   ]
  },
  {
   "cell_type": "code",
   "execution_count": 2,
   "id": "6c2931b9",
   "metadata": {},
   "outputs": [
    {
     "name": "stdout",
     "output_type": "stream",
     "text": [
      "[]\n",
      "[]\n"
     ]
    }
   ],
   "source": [
    "# --- récupération des données\n",
    "V, P = mon_interface.get_valeurs()\n",
    "print(V)\n",
    "print(P)"
   ]
  },
  {
   "cell_type": "code",
   "execution_count": null,
   "id": "13fd0fb7",
   "metadata": {},
   "outputs": [],
   "source": []
  }
 ],
 "metadata": {
  "kernelspec": {
   "display_name": "Python 3",
   "language": "python",
   "name": "python3"
  },
  "language_info": {
   "codemirror_mode": {
    "name": "ipython",
    "version": 3
   },
   "file_extension": ".py",
   "mimetype": "text/x-python",
   "name": "python",
   "nbconvert_exporter": "python",
   "pygments_lexer": "ipython3",
   "version": "3.7.3"
  },
  "widgets": {
   "application/vnd.jupyter.widget-state+json": {
    "state": {},
    "version_major": 2,
    "version_minor": 0
   }
  }
 },
 "nbformat": 4,
 "nbformat_minor": 5
}
