{
 "cells": [
  {
   "cell_type": "markdown",
   "metadata": {},
   "source": [
    "# Energie mécanique d’un système\n",
    "\n",
    "## Mesures\n",
    "- Ouvrir le fichier `pendule.ino` dans le logiciel Arduino.\n",
    "- Sélectionner le port COM et téléverser le programme dans la carte.\n",
    "- Exécuter le programme python  `mesures_pendule.py`.\n",
    "- Lancer le pendule, taper `mesures` dans la boite de dialogue (puis entrée).\n",
    "- Si les mesures vous conviennent, fermer la fenêtre graphique et taper `sauve` dans la boite de dialogue. Un fichier `mesures_pendule.csv` est enregistré. Il contient le tableau des valeurs de `t`, `x` et `y`.\n",
    "- Téléversez le fichier `mesures_pendule.csv` sur le serveur dans le même dossier que ce notebook."
   ]
  },
  {
   "cell_type": "markdown",
   "metadata": {},
   "source": [
    "## Exploitation"
   ]
  },
  {
   "cell_type": "markdown",
   "metadata": {},
   "source": [
    "<div class=\"alert alert-block alert-info\">\n",
    "    \n",
    "Exécutez la celllule ci-dessous. Si vous n'obtenez pas d'erreur, c'est que la strructure de votre fichier `pendule` est correcte.\n",
    "</div>"
   ]
  },
  {
   "cell_type": "code",
   "execution_count": 1,
   "metadata": {},
   "outputs": [],
   "source": [
    "import numpy as np\n",
    "import matplotlib.pyplot as plt\n",
    "from math import sqrt\n",
    "from scipy import optimize\n",
    "\n",
    "# lecture du fichier csv\n",
    "t, x, y = [], [], []\n",
    "with open('mesures_pendule.csv','r') as f :\n",
    "    for ligne in f:\n",
    "        result = ligne.replace('\\n', '').split(';')\n",
    "        t.append(float(result[0]))\n",
    "        x.append(float(result[1]))\n",
    "        y.append(float(result[2]))\n",
    "    f.close()"
   ]
  },
  {
   "cell_type": "markdown",
   "metadata": {},
   "source": [
    "<div class=\"alert alert-block alert-info\">\n",
    "    \n",
    "Renseignez la masse du pendule\n",
    "</div>"
   ]
  },
  {
   "cell_type": "code",
   "execution_count": null,
   "metadata": {},
   "outputs": [],
   "source": [
    "# masse du pendule\n",
    "m = ...\n",
    "g = 9.81"
   ]
  },
  {
   "cell_type": "markdown",
   "metadata": {},
   "source": [
    "<div class=\"alert alert-block alert-info\">\n",
    "    \n",
    "Calculez les valeurs de l'énergie potentielle de pesanteur `Epp` pour chaque pointage\n",
    "</div>"
   ]
  },
  {
   "cell_type": "code",
   "execution_count": null,
   "metadata": {},
   "outputs": [],
   "source": [
    "# calcul des énergies potentielles de pesanteur Epp\n",
    "Epp = []\n",
    "\n",
    "for i in range(1,len(t)-1):\n",
    "    Epp_i = ...\n",
    "    Epp.append(Epp_i)\n",
    "\n",
    "# affichage des 5 premières valeurs de Epp\n",
    "print(Epp[:5])"
   ]
  },
  {
   "cell_type": "markdown",
   "metadata": {},
   "source": [
    "<div class=\"alert alert-block alert-info\">\n",
    "    \n",
    "- Calculez les coordonnées `vx` et `vy` du vecteur vitesse pour chaque position du pendule\n",
    "- En déduire la valeur de la vitesse `v` aux différentes dates\n",
    "- Calculez les valeurs de l'énergie cinétique `Eci` pour chaque pointage.  \n",
    "</div>"
   ]
  },
  {
   "cell_type": "code",
   "execution_count": null,
   "metadata": {},
   "outputs": [],
   "source": [
    "# calcul des coordonnées du vecteur vitesse pour chaque position du pendule (chaque date)\n",
    "Ec = []\n",
    "for i in range(1,len(t)-1):\n",
    "    vx = (...)\n",
    "    vy = (...)\n",
    "    v = ...\n",
    "    Ec_i = ...\n",
    "    Ec.append(Ec_i)\n",
    "    \n",
    "# affichage des 5 premières valeurs de Ec\n",
    "print(Ec[:5])"
   ]
  },
  {
   "cell_type": "markdown",
   "metadata": {},
   "source": [
    "<div class=\"alert alert-block alert-info\">\n",
    "    \n",
    "Déterminez à chaque instant la valeur de l’énergie mécanique `E` du pendule\n",
    "</div>"
   ]
  },
  {
   "cell_type": "code",
   "execution_count": null,
   "metadata": {},
   "outputs": [],
   "source": [
    "# calcul des énergies mécaniques E\n",
    "t1 = t[1:-1] # nouveau temps\n",
    "E = []\n",
    "for i in range(len(t1)):\n",
    "    E_i = ...\n",
    "    E.append(E_i)\n",
    "\n",
    "# affichage des 5 premières valeurs de E\n",
    "print(E[:5])"
   ]
  },
  {
   "cell_type": "markdown",
   "metadata": {},
   "source": [
    "<div class=\"alert alert-block alert-info\">\n",
    "    \n",
    "Affichez le graphique\n",
    "</div>"
   ]
  },
  {
   "cell_type": "code",
   "execution_count": null,
   "metadata": {},
   "outputs": [],
   "source": [
    "# affichage du graphique\n",
    "fig, av = plt.subplots(figsize=(12,8))\n",
    "ap=plt.gca()\n",
    "ap.spines['right'].set_color('none')\n",
    "ap.spines['top'].set_color('none')\n",
    "plt.yticks(fontsize=12)\n",
    "plt.xticks(fontsize=12)\n",
    "plt.title(\"Energies d'un pendule pesant\",fontsize = 16)\n",
    "plt.xlabel('t (s)',fontsize=14)\n",
    "plt.plot(t1,Epp,'-x',color=\"blue\",label='Energie potentielle de pesanteur')\n",
    "plt.ylabel('E (J)',fontsize=14)\n",
    "plt.plot(t1,Ec,'-+',color=\"green\",label='Energie cinétique')\n",
    "plt.plot(t1,E,'*',color=\"red\",label='Energie mécanique')\n",
    "plt.grid()\n",
    "plt.legend(fontsize=12)\n",
    "plt.show()"
   ]
  },
  {
   "cell_type": "markdown",
   "metadata": {},
   "source": [
    "## Questions \n",
    "\n",
    "<div class=\"alert alert-block alert-info\">\n",
    "    \n",
    "Relevez la valeur maximale de l'énergie potentielle de pesanteur. À quelle position du pendule correspond-elle? \n",
    "</div>"
   ]
  },
  {
   "cell_type": "markdown",
   "metadata": {},
   "source": [
    "Votre réponse ici"
   ]
  },
  {
   "cell_type": "markdown",
   "metadata": {},
   "source": [
    "<div class=\"alert alert-block alert-info\">\n",
    "\n",
    "Comment évolue l'énergie potentielle de pesanteur du solide au cours d'une période d'oscillation?    \n",
    "</div>    "
   ]
  },
  {
   "cell_type": "markdown",
   "metadata": {},
   "source": [
    "Votre réponse ici"
   ]
  },
  {
   "cell_type": "markdown",
   "metadata": {},
   "source": [
    "<div class=\"alert alert-block alert-info\">\n",
    "\n",
    "Relevez la valeur maximale de l'énergie cinétique. À quelle position du pendule correspond-elle?\n",
    "</div>"
   ]
  },
  {
   "cell_type": "markdown",
   "metadata": {},
   "source": [
    "Votre réponse ici"
   ]
  },
  {
   "cell_type": "markdown",
   "metadata": {},
   "source": [
    "<div class=\"alert alert-block alert-info\">\n",
    "    \n",
    "Comment évolue l'énergie cinétique au cours d'une période d'oscillation?\n",
    "</div>"
   ]
  },
  {
   "cell_type": "markdown",
   "metadata": {},
   "source": [
    "Votre réponse ici"
   ]
  },
  {
   "cell_type": "markdown",
   "metadata": {},
   "source": [
    "<div class=\"alert alert-block alert-info\">\n",
    "\n",
    "Indiquez comment évolue l'énergie mécanique du pendule. Conclure.\n",
    "</div>"
   ]
  },
  {
   "cell_type": "markdown",
   "metadata": {},
   "source": [
    "Votre réponse ici"
   ]
  },
  {
   "cell_type": "code",
   "execution_count": null,
   "metadata": {},
   "outputs": [],
   "source": []
  }
 ],
 "metadata": {
  "kernelspec": {
   "display_name": "Python 3",
   "language": "python",
   "name": "python3"
  },
  "language_info": {
   "codemirror_mode": {
    "name": "ipython",
    "version": 3
   },
   "file_extension": ".py",
   "mimetype": "text/x-python",
   "name": "python",
   "nbconvert_exporter": "python",
   "pygments_lexer": "ipython3",
   "version": "3.7.3"
  }
 },
 "nbformat": 4,
 "nbformat_minor": 4
}
