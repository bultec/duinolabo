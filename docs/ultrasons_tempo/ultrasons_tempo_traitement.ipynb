{
 "cells": [
  {
   "cell_type": "markdown",
   "id": "ae29824c-feca-4c78-8d07-c534b41e5c99",
   "metadata": {},
   "source": [
    "# Célérité des ultrasons dans l'air\n",
    "\n",
    "##  Importation des biblothèques et fonctions"
   ]
  },
  {
   "cell_type": "code",
   "execution_count": 1,
   "id": "2cc6baa1-1379-4baa-aae9-a5852a76deba",
   "metadata": {
    "tags": []
   },
   "outputs": [],
   "source": [
    "import matplotlib.pyplot as plt\n",
    "from IPython.display import display, Math, Latex\n",
    "from pduino import lit_fichier\n",
    "import numpy as np\n",
    "\n",
    "def recherche_front_montant(t, E):\n",
    "    for i in range(len(E)-1):\n",
    "        if (int(E[i+1]) == 1 ) and (int(E[i]) == 0 ):\n",
    "            m_t = (t[i] + t[i+1]) / 2\n",
    "            return m_t\n",
    "    return None\n",
    "\n",
    "def recherche_front_descendant(t, E):\n",
    "    for i in range(len(E)-1):\n",
    "        if (int(E[i+1]) == 0 ) and (int(E[i]) == 1 ):\n",
    "            m_t = (t[i] + t[i+1]) / 2\n",
    "            return m_t\n",
    "    return None"
   ]
  },
  {
   "cell_type": "markdown",
   "id": "7b7c1354-9bac-4ef9-9051-63ad9630ca02",
   "metadata": {},
   "source": [
    "## Lecture du fichier de mesures et affichage du graphique $E = f(t)$"
   ]
  },
  {
   "cell_type": "code",
   "execution_count": 2,
   "id": "2e3b45ec-8461-42c9-874e-899b59035046",
   "metadata": {
    "tags": []
   },
   "outputs": [
    {
     "data": {
      "image/png": "[encoded data removed]",
      "text/plain": [
       "<Figure size 432x288 with 1 Axes>"
      ]
     },
     "metadata": {
      "needs_background": "light"
     },
     "output_type": "display_data"
    }
   ],
   "source": [
    "# Lit le fichier de mesures\n",
    "t, E = np.array(lit_fichier('mesures_us_96cm.csv'))\n",
    "\n",
    "fig_c = plt.figure(\"Célérité des ultrasons\", figsize=(6, 4))\n",
    "plt.title(\"Célérité des ultrasons dans l'air\")\n",
    "plt.plot(t*1000, E, marker = '*', label = 'E')\n",
    "plt.grid()\n",
    "plt.xlabel('t (ms)')\n",
    "plt.ylabel ('E (sans unité)')\n",
    "plt.legend()\n",
    "plt.show()"
   ]
  },
  {
   "cell_type": "markdown",
   "id": "3c70b874-8c97-4dc5-a9a2-9dfc18999aa7",
   "metadata": {},
   "source": [
    "## Détermination de la célérité du son"
   ]
  },
  {
   "cell_type": "code",
   "execution_count": 3,
   "id": "53cfacdf-be85-4fe4-bf80-8aa318dcdc7e",
   "metadata": {
    "tags": []
   },
   "outputs": [
    {
     "name": "stdout",
     "output_type": "stream",
     "text": [
      "V = 340.2 m.s-1\n"
     ]
    }
   ],
   "source": [
    "# --- calcul de la célérité du son ---\n",
    "d = 96e-2\n",
    "t1 = recherche_front_montant(t, E)\n",
    "t2 = recherche_front_descendant(t, E)\n",
    "dt =  t2 - t1\n",
    "v = 2 * d / (dt/1000)\n",
    "print('V = {} m.s-1'.format(round(v, 1)))"
   ]
  },
  {
   "cell_type": "code",
   "execution_count": null,
   "id": "f7d7f349-e612-44b4-9f2e-b8c0309f2ae5",
   "metadata": {},
   "outputs": [],
   "source": []
  }
 ],
 "metadata": {
  "kernelspec": {
   "display_name": "Python 3",
   "language": "python",
   "name": "python3"
  },
  "language_info": {
   "codemirror_mode": {
    "name": "ipython",
    "version": 3
   },
   "file_extension": ".py",
   "mimetype": "text/x-python",
   "name": "python",
   "nbconvert_exporter": "python",
   "pygments_lexer": "ipython3",
   "version": "3.7.3"
  },
  "vscode": {
   "interpreter": {
    "hash": "78f95d0d2782237e14bc5b78ccf4a667cd9425dab27867d91777baab0bd1e63d"
   }
  },
  "widgets": {
   "application/vnd.jupyter.widget-state+json": {
    "state": {},
    "version_major": 2,
    "version_minor": 0
   }
  }
 },
 "nbformat": 4,
 "nbformat_minor": 5
}
