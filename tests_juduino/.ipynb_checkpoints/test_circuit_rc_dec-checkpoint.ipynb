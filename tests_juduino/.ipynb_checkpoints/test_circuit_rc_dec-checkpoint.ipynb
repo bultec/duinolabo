{
 "cells": [
  {
   "cell_type": "code",
   "execution_count": 1,
   "id": "b76d1fb8",
   "metadata": {
    "tags": []
   },
   "outputs": [],
   "source": [
    "import sys\n",
    "sys.path.insert(0, \"..\")\n",
    "\n",
    "from pyduino import *\n",
    "from juduino import *"
   ]
  },
  {
   "cell_type": "code",
   "execution_count": 4,
   "id": "99b1a2db",
   "metadata": {
    "tags": []
   },
   "outputs": [
    {
     "data": {
      "application/vnd.jupyter.widget-view+json": {
       "model_id": "4f8da0b5338641a28bf31a98b6a3a566",
       "version_major": 2,
       "version_minor": 0
      },
      "text/plain": [
       "VBox(children=(HBox(children=(Button(button_style='danger', description='Arduino', style=ButtonStyle()), Butto…"
      ]
     },
     "metadata": {},
     "output_type": "display_data"
    }
   ],
   "source": [
    "# --- condensateur charge auto ---\n",
    "my_int = Interface('auto', [('t', 's'), ('E', 'V'), ('uc', 'V')], 'temporel')\n",
    "\n",
    "def charge():\n",
    "    global t, E, uc\n",
    "    t, E, uc = my_int.mesures_tempo('charge', 2, [lambda x: 5.0*x/1023, lambda x: 5.0*x/1023])\n",
    "    \n",
    "def decharge():\n",
    "    global t, E, uc\n",
    "    t, E, uc = my_int.mesures_tempo('decharge', 2, [lambda x: 5.0*x/1023, lambda x: 5.0*x/1023])\n",
    "\n",
    "def sauvegarde():\n",
    "    fichier = saisie.value + '.csv'\n",
    "    ecrit_fichier_csv(fichier, t, E, uc)\n",
    "    print('fichier {} créé'.format(fichier))\n",
    "    \n",
    "# ---    \n",
    "my_int.add_bouton('Charge', charge)\n",
    "my_int.add_bouton('Décharge', decharge)\n",
    "saisie = my_int.add_saisie('Nom Fichier', 'mesures')\n",
    "my_int.add_bouton('Sauvegarde', sauvegarde)\n",
    "my_int.affiche()"
   ]
  },
  {
   "cell_type": "code",
   "execution_count": 5,
   "id": "b3d473a3",
   "metadata": {
    "tags": []
   },
   "outputs": [
    {
     "data": {
      "application/vnd.jupyter.widget-view+json": {
       "model_id": "565d2521534442f3877999bb924d8127",
       "version_major": 2,
       "version_minor": 0
      },
      "text/plain": [
       "VBox(children=(HBox(children=(Button(button_style='danger', description='Arduino', style=ButtonStyle()), Butto…"
      ]
     },
     "metadata": {},
     "output_type": "display_data"
    }
   ],
   "source": [
    "# --- condensateur charge déclenchée ---\n",
    "my_int = Interface('auto', [('t', 's'), ('E', 'V'), ('uc', 'V')], 'temporel')\n",
    "\n",
    "def charge():\n",
    "    global t, E, uc\n",
    "    t, E, uc = my_int.mesures_tempo('charge', 2)\n",
    "\n",
    "def sauvegarde():\n",
    "    fichier = saisie.value + '.csv'\n",
    "    ecrit_fichier_csv(fichier, t, E, uc)\n",
    "    print('fichier {} créé'.format(fichier))\n",
    "    \n",
    "# ---    \n",
    "my_int.add_bouton('Charge', charge)\n",
    "saisie = my_int.add_saisie('Nom Fichier', 'mesures')\n",
    "my_int.add_bouton('Sauvegarde', sauvegarde)\n",
    "my_int.affiche()"
   ]
  },
  {
   "cell_type": "code",
   "execution_count": null,
   "id": "99aa9ff7",
   "metadata": {},
   "outputs": [],
   "source": []
  }
 ],
 "metadata": {
  "kernelspec": {
   "display_name": "Python 3",
   "language": "python",
   "name": "python3"
  },
  "language_info": {
   "codemirror_mode": {
    "name": "ipython",
    "version": 3
   },
   "file_extension": ".py",
   "mimetype": "text/x-python",
   "name": "python",
   "nbconvert_exporter": "python",
   "pygments_lexer": "ipython3",
   "version": "3.7.3"
  },
  "widgets": {
   "application/vnd.jupyter.widget-state+json": {
    "state": {
     "00657fb7aee24ca49acd5e5cee31780c": {
      "model_module": "@jupyter-widgets/controls",
      "model_module_version": "2.0.0",
      "model_name": "ButtonStyleModel",
      "state": {
       "font_family": null,
       "font_size": null,
       "font_style": null,
       "font_variant": null,
       "font_weight": null,
       "text_color": null,
       "text_decoration": null
      }
     },
     "02c3e7b58f204b3c82f21634429bfcd6": {
      "model_module": "@jupyter-widgets/base",
      "model_module_version": "2.0.0",
      "model_name": "LayoutModel",
      "state": {}
     },
     "050bd72173eb4a5badb7b061c4ea16aa": {
      "model_module": "@jupyter-widgets/base",
      "model_module_version": "2.0.0",
      "model_name": "LayoutModel",
      "state": {}
     },
     "0f8b4725deb742c6b8ccf0125e3c94c3": {
      "model_module": "@jupyter-widgets/controls",
      "model_module_version": "2.0.0",
      "model_name": "ButtonStyleModel",
      "state": {
       "font_family": null,
       "font_size": null,
       "font_style": null,
       "font_variant": null,
       "font_weight": null,
       "text_color": null,
       "text_decoration": null
      }
     },
     "1121b1c3434042adb2bd86e15e5ac926": {
      "model_module": "@jupyter-widgets/output",
      "model_module_version": "1.0.0",
      "model_name": "OutputModel",
      "state": {
       "layout": "IPY_MODEL_75b24c1b407c49dca97d7d400199a843"
      }
     },
     "117f554460b8484e90780fd49340b930": {
      "model_module": "@jupyter-widgets/base",
      "model_module_version": "2.0.0",
      "model_name": "LayoutModel",
      "state": {}
     },
     "1505a71f263f4c138635ab0049601198": {
      "model_module": "@jupyter-widgets/output",
      "model_module_version": "1.0.0",
      "model_name": "OutputModel",
      "state": {
       "layout": "IPY_MODEL_79e6cf4f102e44c6972989cf4d6cf6f2"
      }
     },
     "157360ffbdaf4739a34824916aab3dee": {
      "model_module": "@jupyter-widgets/controls",
      "model_module_version": "2.0.0",
      "model_name": "VBoxModel",
      "state": {
       "children": [
        "IPY_MODEL_a98978dbc7604e168eab11464fbcfd43",
        "IPY_MODEL_27e458deee6449788088366494739102"
       ],
       "layout": "IPY_MODEL_2d8e40b079864afcad8ea9b7636f0daf"
      }
     },
     "15c8b32a919242a1a7425d3e534c03c5": {
      "model_module": "@jupyter-widgets/controls",
      "model_module_version": "2.0.0",
      "model_name": "ButtonModel",
      "state": {
       "description": "Charge",
       "layout": "IPY_MODEL_c51986e166c8498f95ba799fb8bca77e",
       "style": "IPY_MODEL_1a65dcacf88c4fc2bacf2033efe91e94",
       "tooltip": null
      }
     },
     "17f540c12ed04b51bf61096adc3ff70a": {
      "model_module": "@jupyter-widgets/base",
      "model_module_version": "2.0.0",
      "model_name": "LayoutModel",
      "state": {}
     },
     "196ab3f1ff4f42349d010fc9e6516fe4": {
      "model_module": "@jupyter-widgets/controls",
      "model_module_version": "2.0.0",
      "model_name": "VBoxModel",
      "state": {
       "children": [
        "IPY_MODEL_7b0adc81a3d44d60bba33eddd7defdc8",
        "IPY_MODEL_69e9b496ec0f47b084343ab9d46400c8"
       ],
       "layout": "IPY_MODEL_3f3b9c86a2ea4749879b424227199af4"
      }
     },
     "1a65dcacf88c4fc2bacf2033efe91e94": {
      "model_module": "@jupyter-widgets/controls",
      "model_module_version": "2.0.0",
      "model_name": "ButtonStyleModel",
      "state": {
       "font_family": null,
       "font_size": null,
       "font_style": null,
       "font_variant": null,
       "font_weight": null,
       "text_color": null,
       "text_decoration": null
      }
     },
     "249679c24f854e3ebaf6d09b2dd6436a": {
      "model_module": "@jupyter-widgets/controls",
      "model_module_version": "2.0.0",
      "model_name": "ButtonModel",
      "state": {
       "description": "Sauvegarde",
       "layout": "IPY_MODEL_e586187bf0a84286b3e00fca2fa4ef05",
       "style": "IPY_MODEL_424bc26921634241b1b79d022eff53fb",
       "tooltip": null
      }
     },
     "27e458deee6449788088366494739102": {
      "model_module": "@jupyter-widgets/controls",
      "model_module_version": "2.0.0",
      "model_name": "HBoxModel",
      "state": {
       "children": [
        "IPY_MODEL_1121b1c3434042adb2bd86e15e5ac926",
        "IPY_MODEL_b1407214b7944eed849a3d9a87c91801"
       ],
       "layout": "IPY_MODEL_17f540c12ed04b51bf61096adc3ff70a"
      }
     },
     "28e08f643baa4177978baee3488fd334": {
      "model_module": "@jupyter-widgets/base",
      "model_module_version": "2.0.0",
      "model_name": "LayoutModel",
      "state": {
       "margin": "20px 0 0 20px"
      }
     },
     "2d8e40b079864afcad8ea9b7636f0daf": {
      "model_module": "@jupyter-widgets/base",
      "model_module_version": "2.0.0",
      "model_name": "LayoutModel",
      "state": {}
     },
     "2e39af5b0cb14e738b5f9194656c6488": {
      "model_module": "@jupyter-widgets/base",
      "model_module_version": "2.0.0",
      "model_name": "LayoutModel",
      "state": {
       "width": "200px"
      }
     },
     "3833734979af49aea1a4700fcd5c731c": {
      "model_module": "@jupyter-widgets/controls",
      "model_module_version": "2.0.0",
      "model_name": "ButtonStyleModel",
      "state": {
       "font_family": null,
       "font_size": null,
       "font_style": null,
       "font_variant": null,
       "font_weight": null,
       "text_color": null,
       "text_decoration": null
      }
     },
     "3f3b9c86a2ea4749879b424227199af4": {
      "model_module": "@jupyter-widgets/base",
      "model_module_version": "2.0.0",
      "model_name": "LayoutModel",
      "state": {}
     },
     "424bc26921634241b1b79d022eff53fb": {
      "model_module": "@jupyter-widgets/controls",
      "model_module_version": "2.0.0",
      "model_name": "ButtonStyleModel",
      "state": {
       "font_family": null,
       "font_size": null,
       "font_style": null,
       "font_variant": null,
       "font_weight": null,
       "text_color": null,
       "text_decoration": null
      }
     },
     "42b3d91f985049128d91f2a8b561d76a": {
      "model_module": "@jupyter-widgets/base",
      "model_module_version": "2.0.0",
      "model_name": "LayoutModel",
      "state": {}
     },
     "434693098fcf456ea1ae94456887ac81": {
      "model_module": "@jupyter-widgets/controls",
      "model_module_version": "2.0.0",
      "model_name": "ButtonStyleModel",
      "state": {
       "font_family": null,
       "font_size": null,
       "font_style": null,
       "font_variant": null,
       "font_weight": null,
       "text_color": null,
       "text_decoration": null
      }
     },
     "48fe45e74e3f482f901d29b61ddc096f": {
      "model_module": "@jupyter-widgets/controls",
      "model_module_version": "2.0.0",
      "model_name": "ButtonStyleModel",
      "state": {
       "font_family": null,
       "font_size": null,
       "font_style": null,
       "font_variant": null,
       "font_weight": null,
       "text_color": null,
       "text_decoration": null
      }
     },
     "4a941b9c21fc412698523db8f2b82eab": {
      "model_module": "@jupyter-widgets/base",
      "model_module_version": "2.0.0",
      "model_name": "LayoutModel",
      "state": {
       "width": "200px"
      }
     },
     "4d4b2759e0714083851380d88751d9ab": {
      "model_module": "@jupyter-widgets/base",
      "model_module_version": "2.0.0",
      "model_name": "LayoutModel",
      "state": {}
     },
     "4f8da0b5338641a28bf31a98b6a3a566": {
      "model_module": "@jupyter-widgets/controls",
      "model_module_version": "2.0.0",
      "model_name": "VBoxModel",
      "state": {
       "children": [
        "IPY_MODEL_b53948ff9cf84e5fa4cd4099c9b40a65",
        "IPY_MODEL_dbb11f9317354c8e84a9ec22ac3972d6"
       ],
       "layout": "IPY_MODEL_cd7bb1e6e95e448087208e0b04810790"
      }
     },
     "54efa3297bbe475ba68691e522a48ec4": {
      "model_module": "@jupyter-widgets/controls",
      "model_module_version": "2.0.0",
      "model_name": "ButtonModel",
      "state": {
       "description": "Charge",
       "layout": "IPY_MODEL_8a7e6850d3a84ed2b70b2e8bef5ab778",
       "style": "IPY_MODEL_b689bc337a8a46a9bbd7e2e45ba4d5e0",
       "tooltip": null
      }
     },
     "55df16ba92e84e65b60b8463a25a2bf0": {
      "model_module": "@jupyter-widgets/base",
      "model_module_version": "2.0.0",
      "model_name": "LayoutModel",
      "state": {
       "margin": "20px 0 0 20px"
      }
     },
     "565d2521534442f3877999bb924d8127": {
      "model_module": "@jupyter-widgets/controls",
      "model_module_version": "2.0.0",
      "model_name": "VBoxModel",
      "state": {
       "children": [
        "IPY_MODEL_aa47ed927998483382944064bc0e4227",
        "IPY_MODEL_ee3d0d8a9e14466a8f8c456ca52ea182"
       ],
       "layout": "IPY_MODEL_d0c678a8da7c490cabc8703f82446627"
      }
     },
     "5cd689820ff04385a0fce58add1e4eb6": {
      "model_module": "@jupyter-widgets/controls",
      "model_module_version": "2.0.0",
      "model_name": "ButtonModel",
      "state": {
       "description": "Décharge",
       "layout": "IPY_MODEL_73cd3ff7a0764828ac830e25d9489c09",
       "style": "IPY_MODEL_3833734979af49aea1a4700fcd5c731c",
       "tooltip": null
      }
     },
     "5de6f99131a548b29fcad29b43caf471": {
      "model_module": "@jupyter-widgets/base",
      "model_module_version": "2.0.0",
      "model_name": "LayoutModel",
      "state": {}
     },
     "5fb2e77b76d544b88744cf798e19307d": {
      "model_module": "@jupyter-widgets/controls",
      "model_module_version": "2.0.0",
      "model_name": "ProgressStyleModel",
      "state": {
       "description_width": ""
      }
     },
     "69e9b496ec0f47b084343ab9d46400c8": {
      "model_module": "@jupyter-widgets/controls",
      "model_module_version": "2.0.0",
      "model_name": "HBoxModel",
      "state": {
       "children": [
        "IPY_MODEL_7f2ba5cb7a4c4764b217dc6db62d9c80",
        "IPY_MODEL_7eff078c1e664882b41c7c2ca4f7d64a"
       ],
       "layout": "IPY_MODEL_f5faac875c75438fa6d64ce6a0ec1eb9"
      }
     },
     "6ac143c2bdd246cea7b4618e8fc8e1e3": {
      "model_module": "@jupyter-widgets/base",
      "model_module_version": "2.0.0",
      "model_name": "LayoutModel",
      "state": {}
     },
     "6dd95a432ebc4f23bfac24b7046a2efd": {
      "model_module": "@jupyter-widgets/controls",
      "model_module_version": "2.0.0",
      "model_name": "TextStyleModel",
      "state": {
       "description_width": "initial",
       "font_size": null,
       "text_color": null
      }
     },
     "6e9b64abd068440abcafbc7d22863cb7": {
      "model_module": "@jupyter-widgets/base",
      "model_module_version": "2.0.0",
      "model_name": "LayoutModel",
      "state": {}
     },
     "6f30688d06c244279564e67f9dc6661c": {
      "model_module": "@jupyter-widgets/controls",
      "model_module_version": "2.0.0",
      "model_name": "TextModel",
      "state": {
       "description": "Nom Fichier",
       "layout": "IPY_MODEL_4a941b9c21fc412698523db8f2b82eab",
       "style": "IPY_MODEL_cfe5dd64f59640239e57fb1ac3e3bd56",
       "value": "mesures"
      }
     },
     "731e7963a1754ff0b078ec4fe74deaa7": {
      "model_module": "@jupyter-widgets/base",
      "model_module_version": "2.0.0",
      "model_name": "LayoutModel",
      "state": {}
     },
     "73cd3ff7a0764828ac830e25d9489c09": {
      "model_module": "@jupyter-widgets/base",
      "model_module_version": "2.0.0",
      "model_name": "LayoutModel",
      "state": {}
     },
     "75b24c1b407c49dca97d7d400199a843": {
      "model_module": "@jupyter-widgets/base",
      "model_module_version": "2.0.0",
      "model_name": "LayoutModel",
      "state": {}
     },
     "79e6cf4f102e44c6972989cf4d6cf6f2": {
      "model_module": "@jupyter-widgets/base",
      "model_module_version": "2.0.0",
      "model_name": "LayoutModel",
      "state": {}
     },
     "79fd5b100c724594a3f9d37e9c0054d6": {
      "model_module": "@jupyter-widgets/controls",
      "model_module_version": "2.0.0",
      "model_name": "ButtonStyleModel",
      "state": {
       "font_family": null,
       "font_size": null,
       "font_style": null,
       "font_variant": null,
       "font_weight": null,
       "text_color": null,
       "text_decoration": null
      }
     },
     "7b0adc81a3d44d60bba33eddd7defdc8": {
      "model_module": "@jupyter-widgets/controls",
      "model_module_version": "2.0.0",
      "model_name": "HBoxModel",
      "state": {
       "children": [
        "IPY_MODEL_b0dff9ff1f2b4e8fa571f94a0c4b3767",
        "IPY_MODEL_15c8b32a919242a1a7425d3e534c03c5",
        "IPY_MODEL_ce1a7c5813ac4568a4cba383ec70ff14",
        "IPY_MODEL_d2c327a39bab4c56b91d4ac3056dfb1c",
        "IPY_MODEL_e30734e52efc4fec9d9601be09727daf"
       ],
       "layout": "IPY_MODEL_6ac143c2bdd246cea7b4618e8fc8e1e3"
      }
     },
     "7b8e4156b6f944f083e580e75b7b352d": {
      "model_module": "@jupyter-widgets/controls",
      "model_module_version": "2.0.0",
      "model_name": "ButtonModel",
      "state": {
       "description": "Décharge",
       "layout": "IPY_MODEL_a6e54694cc7f473a8ad7b64b7a4b6528",
       "style": "IPY_MODEL_00657fb7aee24ca49acd5e5cee31780c",
       "tooltip": null
      }
     },
     "7bea65df45074b11a011975beae312df": {
      "model_module": "@jupyter-widgets/controls",
      "model_module_version": "2.0.0",
      "model_name": "TextModel",
      "state": {
       "description": "Nom Fichier",
       "layout": "IPY_MODEL_f5d87412798b4de7b4fa2314705f352f",
       "style": "IPY_MODEL_804de42a9f1c471096dd61ef47f00ef5",
       "value": "mesures"
      }
     },
     "7eff078c1e664882b41c7c2ca4f7d64a": {
      "model_module": "@jupyter-widgets/output",
      "model_module_version": "1.0.0",
      "model_name": "OutputModel",
      "state": {
       "layout": "IPY_MODEL_55df16ba92e84e65b60b8463a25a2bf0"
      }
     },
     "7f2ba5cb7a4c4764b217dc6db62d9c80": {
      "model_module": "@jupyter-widgets/output",
      "model_module_version": "1.0.0",
      "model_name": "OutputModel",
      "state": {
       "layout": "IPY_MODEL_a064386793c74610a7572526470a7f24"
      }
     },
     "804de42a9f1c471096dd61ef47f00ef5": {
      "model_module": "@jupyter-widgets/controls",
      "model_module_version": "2.0.0",
      "model_name": "TextStyleModel",
      "state": {
       "description_width": "initial",
       "font_size": null,
       "text_color": null
      }
     },
     "8382692981424453b5aeb31e73488b7f": {
      "model_module": "@jupyter-widgets/controls",
      "model_module_version": "2.0.0",
      "model_name": "IntProgressModel",
      "state": {
       "description": "Loading:",
       "layout": "IPY_MODEL_02c3e7b58f204b3c82f21634429bfcd6",
       "max": 10,
       "style": "IPY_MODEL_d5c12b400efc404a9de2ce0a89675b33"
      }
     },
     "8a7e6850d3a84ed2b70b2e8bef5ab778": {
      "model_module": "@jupyter-widgets/base",
      "model_module_version": "2.0.0",
      "model_name": "LayoutModel",
      "state": {}
     },
     "8dae5782721640c5867fce757a5a797d": {
      "model_module": "@jupyter-widgets/base",
      "model_module_version": "2.0.0",
      "model_name": "LayoutModel",
      "state": {}
     },
     "8f241cbed28f40c2b031fdf805247e95": {
      "model_module": "@jupyter-widgets/controls",
      "model_module_version": "2.0.0",
      "model_name": "ButtonStyleModel",
      "state": {
       "font_family": null,
       "font_size": null,
       "font_style": null,
       "font_variant": null,
       "font_weight": null,
       "text_color": null,
       "text_decoration": null
      }
     },
     "91800ce851264af78cae902642c0610c": {
      "model_module": "@jupyter-widgets/controls",
      "model_module_version": "2.0.0",
      "model_name": "ButtonModel",
      "state": {
       "description": "Sauvegarde",
       "layout": "IPY_MODEL_a74e4ea6e7984e479dd349f78d886722",
       "style": "IPY_MODEL_ca9f50ef65524b3ca32175557597300f",
       "tooltip": null
      }
     },
     "92a3beba6fd44861b17ac7e7fbab02e1": {
      "model_module": "@jupyter-widgets/base",
      "model_module_version": "2.0.0",
      "model_name": "LayoutModel",
      "state": {
       "margin": "20px 0 0 20px"
      }
     },
     "97cd60d7311e47acba03fbe95819e28f": {
      "model_module": "@jupyter-widgets/controls",
      "model_module_version": "2.0.0",
      "model_name": "TextStyleModel",
      "state": {
       "description_width": "initial",
       "font_size": null,
       "text_color": null
      }
     },
     "983c05503c6047e38a1af9be055f3f6d": {
      "model_module": "@jupyter-widgets/base",
      "model_module_version": "2.0.0",
      "model_name": "LayoutModel",
      "state": {}
     },
     "a064386793c74610a7572526470a7f24": {
      "model_module": "@jupyter-widgets/base",
      "model_module_version": "2.0.0",
      "model_name": "LayoutModel",
      "state": {}
     },
     "a2425c94e46b4be687aec88db600a247": {
      "model_module": "@jupyter-widgets/controls",
      "model_module_version": "2.0.0",
      "model_name": "ButtonStyleModel",
      "state": {
       "font_family": null,
       "font_size": null,
       "font_style": null,
       "font_variant": null,
       "font_weight": null,
       "text_color": null,
       "text_decoration": null
      }
     },
     "a6e54694cc7f473a8ad7b64b7a4b6528": {
      "model_module": "@jupyter-widgets/base",
      "model_module_version": "2.0.0",
      "model_name": "LayoutModel",
      "state": {}
     },
     "a74e4ea6e7984e479dd349f78d886722": {
      "model_module": "@jupyter-widgets/base",
      "model_module_version": "2.0.0",
      "model_name": "LayoutModel",
      "state": {}
     },
     "a7762b9cb56142839d24f8c6419a2943": {
      "model_module": "@jupyter-widgets/base",
      "model_module_version": "2.0.0",
      "model_name": "LayoutModel",
      "state": {}
     },
     "a98978dbc7604e168eab11464fbcfd43": {
      "model_module": "@jupyter-widgets/controls",
      "model_module_version": "2.0.0",
      "model_name": "HBoxModel",
      "state": {
       "children": [
        "IPY_MODEL_f19e36f96ae84144955b434f773ab4f8",
        "IPY_MODEL_e6c70f37d5844756ae0d4fc1842fe587",
        "IPY_MODEL_7b8e4156b6f944f083e580e75b7b352d",
        "IPY_MODEL_b19bcb56acef439bb749688558ae2540",
        "IPY_MODEL_249679c24f854e3ebaf6d09b2dd6436a",
        "IPY_MODEL_d090bf906b1a4f379f9d6e1bcd8290db"
       ],
       "layout": "IPY_MODEL_c07899a443bd4c41959c30f33f45d29a"
      }
     },
     "aa47ed927998483382944064bc0e4227": {
      "model_module": "@jupyter-widgets/controls",
      "model_module_version": "2.0.0",
      "model_name": "HBoxModel",
      "state": {
       "children": [
        "IPY_MODEL_cf19338143ef46daa5834f427c88dbad",
        "IPY_MODEL_54efa3297bbe475ba68691e522a48ec4",
        "IPY_MODEL_6f30688d06c244279564e67f9dc6661c",
        "IPY_MODEL_b1b0ed407f03464085d49871d39213e9",
        "IPY_MODEL_abc331afd5074e949541e80a6145d7c7"
       ],
       "layout": "IPY_MODEL_731e7963a1754ff0b078ec4fe74deaa7"
      }
     },
     "abc331afd5074e949541e80a6145d7c7": {
      "model_module": "@jupyter-widgets/controls",
      "model_module_version": "2.0.0",
      "model_name": "IntProgressModel",
      "state": {
       "description": "Loading:",
       "layout": "IPY_MODEL_8dae5782721640c5867fce757a5a797d",
       "max": 10,
       "style": "IPY_MODEL_daa56e0b33b7478089aeffff3688d715"
      }
     },
     "ae512dc2075942a08ce18dd1ecfa36dc": {
      "model_module": "@jupyter-widgets/base",
      "model_module_version": "2.0.0",
      "model_name": "LayoutModel",
      "state": {
       "width": "200px"
      }
     },
     "ae9af0997a6a4a0f955c3ab07594c5f0": {
      "model_module": "@jupyter-widgets/controls",
      "model_module_version": "2.0.0",
      "model_name": "ProgressStyleModel",
      "state": {
       "description_width": ""
      }
     },
     "b0dff9ff1f2b4e8fa571f94a0c4b3767": {
      "model_module": "@jupyter-widgets/controls",
      "model_module_version": "2.0.0",
      "model_name": "ButtonModel",
      "state": {
       "button_style": "danger",
       "description": "Arduino",
       "layout": "IPY_MODEL_f6425ba846ff4bbb92fc86d3ba20bcc4",
       "style": "IPY_MODEL_48fe45e74e3f482f901d29b61ddc096f",
       "tooltip": null
      }
     },
     "b1407214b7944eed849a3d9a87c91801": {
      "model_module": "@jupyter-widgets/output",
      "model_module_version": "1.0.0",
      "model_name": "OutputModel",
      "state": {
       "layout": "IPY_MODEL_92a3beba6fd44861b17ac7e7fbab02e1"
      }
     },
     "b19bcb56acef439bb749688558ae2540": {
      "model_module": "@jupyter-widgets/controls",
      "model_module_version": "2.0.0",
      "model_name": "TextModel",
      "state": {
       "description": "Nom Fichier",
       "layout": "IPY_MODEL_2e39af5b0cb14e738b5f9194656c6488",
       "style": "IPY_MODEL_6dd95a432ebc4f23bfac24b7046a2efd",
       "value": "mesures"
      }
     },
     "b1b0ed407f03464085d49871d39213e9": {
      "model_module": "@jupyter-widgets/controls",
      "model_module_version": "2.0.0",
      "model_name": "ButtonModel",
      "state": {
       "description": "Sauvegarde",
       "layout": "IPY_MODEL_117f554460b8484e90780fd49340b930",
       "style": "IPY_MODEL_0f8b4725deb742c6b8ccf0125e3c94c3",
       "tooltip": null
      }
     },
     "b53948ff9cf84e5fa4cd4099c9b40a65": {
      "model_module": "@jupyter-widgets/controls",
      "model_module_version": "2.0.0",
      "model_name": "HBoxModel",
      "state": {
       "children": [
        "IPY_MODEL_ca53ab36d0764c34a95abbf31f2250fd",
        "IPY_MODEL_c33911fabd4f4c588eac670843d1c7ba",
        "IPY_MODEL_5cd689820ff04385a0fce58add1e4eb6",
        "IPY_MODEL_7bea65df45074b11a011975beae312df",
        "IPY_MODEL_91800ce851264af78cae902642c0610c",
        "IPY_MODEL_8382692981424453b5aeb31e73488b7f"
       ],
       "layout": "IPY_MODEL_bcb5d126a1d8477a8fea1b24be86bf62"
      }
     },
     "b689bc337a8a46a9bbd7e2e45ba4d5e0": {
      "model_module": "@jupyter-widgets/controls",
      "model_module_version": "2.0.0",
      "model_name": "ButtonStyleModel",
      "state": {
       "font_family": null,
       "font_size": null,
       "font_style": null,
       "font_variant": null,
       "font_weight": null,
       "text_color": null,
       "text_decoration": null
      }
     },
     "bcb5d126a1d8477a8fea1b24be86bf62": {
      "model_module": "@jupyter-widgets/base",
      "model_module_version": "2.0.0",
      "model_name": "LayoutModel",
      "state": {}
     },
     "bd382ea3afd2407591313c95d9593996": {
      "model_module": "@jupyter-widgets/base",
      "model_module_version": "2.0.0",
      "model_name": "LayoutModel",
      "state": {
       "margin": "20px 0 0 20px"
      }
     },
     "c07899a443bd4c41959c30f33f45d29a": {
      "model_module": "@jupyter-widgets/base",
      "model_module_version": "2.0.0",
      "model_name": "LayoutModel",
      "state": {}
     },
     "c33911fabd4f4c588eac670843d1c7ba": {
      "model_module": "@jupyter-widgets/controls",
      "model_module_version": "2.0.0",
      "model_name": "ButtonModel",
      "state": {
       "description": "Charge",
       "layout": "IPY_MODEL_6e9b64abd068440abcafbc7d22863cb7",
       "style": "IPY_MODEL_8f241cbed28f40c2b031fdf805247e95",
       "tooltip": null
      }
     },
     "c51986e166c8498f95ba799fb8bca77e": {
      "model_module": "@jupyter-widgets/base",
      "model_module_version": "2.0.0",
      "model_name": "LayoutModel",
      "state": {}
     },
     "c9893823ffa44dd8a30edfcda0a34faa": {
      "model_module": "@jupyter-widgets/controls",
      "model_module_version": "2.0.0",
      "model_name": "ButtonStyleModel",
      "state": {
       "font_family": null,
       "font_size": null,
       "font_style": null,
       "font_variant": null,
       "font_weight": null,
       "text_color": null,
       "text_decoration": null
      }
     },
     "c9bc8902243d4368962c49cdf1287a1c": {
      "model_module": "@jupyter-widgets/base",
      "model_module_version": "2.0.0",
      "model_name": "LayoutModel",
      "state": {}
     },
     "ca53ab36d0764c34a95abbf31f2250fd": {
      "model_module": "@jupyter-widgets/controls",
      "model_module_version": "2.0.0",
      "model_name": "ButtonModel",
      "state": {
       "button_style": "danger",
       "description": "Arduino",
       "layout": "IPY_MODEL_dff6a0bea82147d3b5334b4d63404bf0",
       "style": "IPY_MODEL_434693098fcf456ea1ae94456887ac81",
       "tooltip": null
      }
     },
     "ca9f50ef65524b3ca32175557597300f": {
      "model_module": "@jupyter-widgets/controls",
      "model_module_version": "2.0.0",
      "model_name": "ButtonStyleModel",
      "state": {
       "font_family": null,
       "font_size": null,
       "font_style": null,
       "font_variant": null,
       "font_weight": null,
       "text_color": null,
       "text_decoration": null
      }
     },
     "cd7bb1e6e95e448087208e0b04810790": {
      "model_module": "@jupyter-widgets/base",
      "model_module_version": "2.0.0",
      "model_name": "LayoutModel",
      "state": {}
     },
     "ce1a7c5813ac4568a4cba383ec70ff14": {
      "model_module": "@jupyter-widgets/controls",
      "model_module_version": "2.0.0",
      "model_name": "TextModel",
      "state": {
       "description": "Nom Fichier",
       "layout": "IPY_MODEL_ae512dc2075942a08ce18dd1ecfa36dc",
       "style": "IPY_MODEL_97cd60d7311e47acba03fbe95819e28f",
       "value": "mesures"
      }
     },
     "cf19338143ef46daa5834f427c88dbad": {
      "model_module": "@jupyter-widgets/controls",
      "model_module_version": "2.0.0",
      "model_name": "ButtonModel",
      "state": {
       "button_style": "danger",
       "description": "Arduino",
       "layout": "IPY_MODEL_983c05503c6047e38a1af9be055f3f6d",
       "style": "IPY_MODEL_79fd5b100c724594a3f9d37e9c0054d6",
       "tooltip": null
      }
     },
     "cfe5dd64f59640239e57fb1ac3e3bd56": {
      "model_module": "@jupyter-widgets/controls",
      "model_module_version": "2.0.0",
      "model_name": "TextStyleModel",
      "state": {
       "description_width": "initial",
       "font_size": null,
       "text_color": null
      }
     },
     "d090bf906b1a4f379f9d6e1bcd8290db": {
      "model_module": "@jupyter-widgets/controls",
      "model_module_version": "2.0.0",
      "model_name": "IntProgressModel",
      "state": {
       "description": "Loading:",
       "layout": "IPY_MODEL_c9bc8902243d4368962c49cdf1287a1c",
       "max": 10,
       "style": "IPY_MODEL_5fb2e77b76d544b88744cf798e19307d"
      }
     },
     "d0c678a8da7c490cabc8703f82446627": {
      "model_module": "@jupyter-widgets/base",
      "model_module_version": "2.0.0",
      "model_name": "LayoutModel",
      "state": {}
     },
     "d2c327a39bab4c56b91d4ac3056dfb1c": {
      "model_module": "@jupyter-widgets/controls",
      "model_module_version": "2.0.0",
      "model_name": "ButtonModel",
      "state": {
       "description": "Sauvegarde",
       "layout": "IPY_MODEL_fca8397515414c929e98b638517d5302",
       "style": "IPY_MODEL_a2425c94e46b4be687aec88db600a247",
       "tooltip": null
      }
     },
     "d5c12b400efc404a9de2ce0a89675b33": {
      "model_module": "@jupyter-widgets/controls",
      "model_module_version": "2.0.0",
      "model_name": "ProgressStyleModel",
      "state": {
       "description_width": ""
      }
     },
     "daa56e0b33b7478089aeffff3688d715": {
      "model_module": "@jupyter-widgets/controls",
      "model_module_version": "2.0.0",
      "model_name": "ProgressStyleModel",
      "state": {
       "description_width": ""
      }
     },
     "dbb11f9317354c8e84a9ec22ac3972d6": {
      "model_module": "@jupyter-widgets/controls",
      "model_module_version": "2.0.0",
      "model_name": "HBoxModel",
      "state": {
       "children": [
        "IPY_MODEL_1505a71f263f4c138635ab0049601198",
        "IPY_MODEL_dda3c8550b71427d939b81c18f04f2b1"
       ],
       "layout": "IPY_MODEL_050bd72173eb4a5badb7b061c4ea16aa"
      }
     },
     "dda3c8550b71427d939b81c18f04f2b1": {
      "model_module": "@jupyter-widgets/output",
      "model_module_version": "1.0.0",
      "model_name": "OutputModel",
      "state": {
       "layout": "IPY_MODEL_28e08f643baa4177978baee3488fd334"
      }
     },
     "dff6a0bea82147d3b5334b4d63404bf0": {
      "model_module": "@jupyter-widgets/base",
      "model_module_version": "2.0.0",
      "model_name": "LayoutModel",
      "state": {}
     },
     "e21466f080ed4704b9238e459a996bb2": {
      "model_module": "@jupyter-widgets/base",
      "model_module_version": "2.0.0",
      "model_name": "LayoutModel",
      "state": {}
     },
     "e30734e52efc4fec9d9601be09727daf": {
      "model_module": "@jupyter-widgets/controls",
      "model_module_version": "2.0.0",
      "model_name": "IntProgressModel",
      "state": {
       "description": "Loading:",
       "layout": "IPY_MODEL_42b3d91f985049128d91f2a8b561d76a",
       "max": 10,
       "style": "IPY_MODEL_ae9af0997a6a4a0f955c3ab07594c5f0"
      }
     },
     "e357f75766ac45f4afdcb0a1f74041da": {
      "model_module": "@jupyter-widgets/controls",
      "model_module_version": "2.0.0",
      "model_name": "ButtonStyleModel",
      "state": {
       "font_family": null,
       "font_size": null,
       "font_style": null,
       "font_variant": null,
       "font_weight": null,
       "text_color": null,
       "text_decoration": null
      }
     },
     "e3c6f11955f4412682ce81e6dbe7396e": {
      "model_module": "@jupyter-widgets/output",
      "model_module_version": "1.0.0",
      "model_name": "OutputModel",
      "state": {
       "layout": "IPY_MODEL_4d4b2759e0714083851380d88751d9ab"
      }
     },
     "e586187bf0a84286b3e00fca2fa4ef05": {
      "model_module": "@jupyter-widgets/base",
      "model_module_version": "2.0.0",
      "model_name": "LayoutModel",
      "state": {}
     },
     "e6c70f37d5844756ae0d4fc1842fe587": {
      "model_module": "@jupyter-widgets/controls",
      "model_module_version": "2.0.0",
      "model_name": "ButtonModel",
      "state": {
       "description": "Charge",
       "layout": "IPY_MODEL_e21466f080ed4704b9238e459a996bb2",
       "style": "IPY_MODEL_e357f75766ac45f4afdcb0a1f74041da",
       "tooltip": null
      }
     },
     "ee3d0d8a9e14466a8f8c456ca52ea182": {
      "model_module": "@jupyter-widgets/controls",
      "model_module_version": "2.0.0",
      "model_name": "HBoxModel",
      "state": {
       "children": [
        "IPY_MODEL_e3c6f11955f4412682ce81e6dbe7396e",
        "IPY_MODEL_fb6b921b58c141e68d03cdc17caa7e29"
       ],
       "layout": "IPY_MODEL_a7762b9cb56142839d24f8c6419a2943"
      }
     },
     "f19e36f96ae84144955b434f773ab4f8": {
      "model_module": "@jupyter-widgets/controls",
      "model_module_version": "2.0.0",
      "model_name": "ButtonModel",
      "state": {
       "button_style": "danger",
       "description": "Arduino",
       "layout": "IPY_MODEL_5de6f99131a548b29fcad29b43caf471",
       "style": "IPY_MODEL_c9893823ffa44dd8a30edfcda0a34faa",
       "tooltip": null
      }
     },
     "f5d87412798b4de7b4fa2314705f352f": {
      "model_module": "@jupyter-widgets/base",
      "model_module_version": "2.0.0",
      "model_name": "LayoutModel",
      "state": {
       "width": "200px"
      }
     },
     "f5faac875c75438fa6d64ce6a0ec1eb9": {
      "model_module": "@jupyter-widgets/base",
      "model_module_version": "2.0.0",
      "model_name": "LayoutModel",
      "state": {}
     },
     "f6425ba846ff4bbb92fc86d3ba20bcc4": {
      "model_module": "@jupyter-widgets/base",
      "model_module_version": "2.0.0",
      "model_name": "LayoutModel",
      "state": {}
     },
     "fb6b921b58c141e68d03cdc17caa7e29": {
      "model_module": "@jupyter-widgets/output",
      "model_module_version": "1.0.0",
      "model_name": "OutputModel",
      "state": {
       "layout": "IPY_MODEL_bd382ea3afd2407591313c95d9593996"
      }
     },
     "fca8397515414c929e98b638517d5302": {
      "model_module": "@jupyter-widgets/base",
      "model_module_version": "2.0.0",
      "model_name": "LayoutModel",
      "state": {}
     }
    },
    "version_major": 2,
    "version_minor": 0
   }
  }
 },
 "nbformat": 4,
 "nbformat_minor": 5
}
