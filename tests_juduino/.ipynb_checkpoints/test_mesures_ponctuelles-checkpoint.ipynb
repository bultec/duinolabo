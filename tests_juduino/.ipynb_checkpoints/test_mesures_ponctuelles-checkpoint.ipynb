{
 "cells": [
  {
   "cell_type": "code",
   "execution_count": 2,
   "id": "26704a67",
   "metadata": {},
   "outputs": [
    {
     "data": {
      "application/vnd.jupyter.widget-view+json": {
       "model_id": "59b2422e7ca24f9c8c10eba250afe783",
       "version_major": 2,
       "version_minor": 0
      },
      "text/plain": [
       "VBox(children=(HBox(children=(Button(button_style='danger', description='Arduino', style=ButtonStyle()), Text(…"
      ]
     },
     "metadata": {},
     "output_type": "display_data"
    }
   ],
   "source": [
    "import sys\n",
    "sys.path.insert(0, \"../pyduino\")\n",
    "\n",
    "from pyduino import *\n",
    "from juduino import *\n",
    "\n",
    "# --- mesures ponctuelles - pression modifié ---\n",
    "my_int_ponctuel = Interface('auto', [('V', 'mL'), ('P', 'Pa')], 'points')\n",
    "\n",
    "def mon_acquisition():\n",
    "    v = int(saisie.value)\n",
    "    p = float(my_int_ponctuel.set_command('mesure'))\n",
    "    print('V = {:.1f} mL ; P = {:.2f} hPa'.format(v, p))\n",
    "    my_int_ponctuel.ajoute_point(v, p)\n",
    "    \n",
    "def supp_dernier_point():\n",
    "    if my_int_ponctuel.supprime_dernier_point():\n",
    "        print(\"Dernier point supprimé\")\n",
    "    else:\n",
    "        print('Pas de dernier point')\n",
    "    \n",
    "def sauvegarde():\n",
    "    fichier = nom_fic.value + '.csv'\n",
    "    V, P = my_int_ponctuel.get_valeurs()\n",
    "    ecrit_fichier_csv(fichier, V, P)\n",
    "    print('fichier {} créé'.format(fichier))\n",
    "    \n",
    "# ---    \n",
    "saisie = my_int_ponctuel.add_saisie('V (mL)', '60')\n",
    "my_int_ponctuel.add_bouton('Mesure', mon_acquisition)\n",
    "my_int_ponctuel.add_bouton('Supp. dernier point', supp_dernier_point)\n",
    "nom_fic = my_int_ponctuel.add_saisie('Nom fichier', 'mesures')\n",
    "my_int_ponctuel.add_bouton('Sauvegarde', sauvegarde)\n",
    "my_int_ponctuel.affiche()"
   ]
  },
  {
   "cell_type": "code",
   "execution_count": 3,
   "id": "6c2931b9",
   "metadata": {},
   "outputs": [
    {
     "name": "stdout",
     "output_type": "stream",
     "text": [
      "[60, 50, 40, 30, 20, 10]\n",
      "[-163.32, -163.32, -163.32, -163.32, -163.32, -163.32]\n"
     ]
    }
   ],
   "source": [
    "# --- récupération des données\n",
    "V, P = my_int_ponctuel.get_valeurs()\n",
    "print(V)\n",
    "print(P)"
   ]
  },
  {
   "cell_type": "code",
   "execution_count": null,
   "id": "13fd0fb7",
   "metadata": {},
   "outputs": [],
   "source": []
  }
 ],
 "metadata": {
  "kernelspec": {
   "display_name": "Python 3 (ipykernel)",
   "language": "python",
   "name": "python3"
  },
  "language_info": {
   "codemirror_mode": {
    "name": "ipython",
    "version": 3
   },
   "file_extension": ".py",
   "mimetype": "text/x-python",
   "name": "python",
   "nbconvert_exporter": "python",
   "pygments_lexer": "ipython3",
   "version": "3.9.4"
  }
 },
 "nbformat": 4,
 "nbformat_minor": 5
}
