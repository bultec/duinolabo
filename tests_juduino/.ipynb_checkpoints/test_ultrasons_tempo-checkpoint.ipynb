{
 "cells": [
  {
   "cell_type": "markdown",
   "id": "110461b9-5c53-4870-a8e6-7569c1caf7d4",
   "metadata": {},
   "source": [
    "## Mesures temporelles - durée de parcours d'une onde ultrasonore\n",
    "\n",
    "Lorsque l'utilisateur clique sur le bouton `Mesure` le programme envoie la commande `mesure` à la carte _Arduino_, ce qui provoque la réception des données sur la liason série ainsi que leur affichage sous forme de graphe $E=f(t)$."
   ]
  },
  {
   "cell_type": "code",
   "execution_count": 1,
   "id": "169afeb4-ad18-4700-9ae5-cebab85262ee",
   "metadata": {
    "tags": []
   },
   "outputs": [
    {
     "data": {
      "application/vnd.jupyter.widget-view+json": {
       "model_id": "b0380745b7c447aeb1256e3df1c79787",
       "version_major": 2,
       "version_minor": 0
      },
      "text/plain": [
       "VBox(children=(HBox(children=(Button(button_style='danger', description='Arduino', style=ButtonStyle()), Butto…"
      ]
     },
     "metadata": {},
     "output_type": "display_data"
    }
   ],
   "source": [
    "import sys\n",
    "sys.path.insert(0, \"../pyduino\")\n",
    "\n",
    "from pyduino import *\n",
    "from juduino import *\n",
    "\n",
    "# modifiez le port en fonction de votre configuration\n",
    "mon_interface = Interface('COM8', [('t', 's'), ('E', '')], 'temporel')\n",
    "\n",
    "def mesure():\n",
    "    # exécuté lorsque l'utilisateur clique sur le bouton 'Mesure'\n",
    "    global t, E\n",
    "    t, E = mesures_tempo(mon_interface.arduino, 'mesure', 1, mon_interface.update)\n",
    "    \n",
    "def sauvegarde():\n",
    "    # exécuté lorsque l'utilisateur clique sur le bouton 'Sauvegarde'\n",
    "    fichier = saisie.value + '.csv'\n",
    "    ecrit_fichier_csv(fichier, t, E)\n",
    "    print('fichier {} créé'.format(fichier))\n",
    "    \n",
    "# --- programme principal\n",
    "mon_interface.add_bouton('Mesure', mesure)\n",
    "saisie = mon_interface.add_saisie('Nom Fichier', 'mesures_us')\n",
    "mon_interface.add_bouton('Sauvegarde', sauvegarde)\n",
    "mon_interface.affiche()"
   ]
  }
 ],
 "metadata": {
  "kernelspec": {
   "display_name": "Python 3",
   "language": "python",
   "name": "python3"
  },
  "language_info": {
   "codemirror_mode": {
    "name": "ipython",
    "version": 3
   },
   "file_extension": ".py",
   "mimetype": "text/x-python",
   "name": "python",
   "nbconvert_exporter": "python",
   "pygments_lexer": "ipython3",
   "version": "3.7.3"
  }
 },
 "nbformat": 4,
 "nbformat_minor": 5
}
