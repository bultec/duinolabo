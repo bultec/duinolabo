{
 "cells": [
  {
   "cell_type": "code",
   "execution_count": 2,
   "metadata": {},
   "outputs": [
    {
     "data": {
      "application/vnd.jupyter.widget-view+json": {
       "model_id": "1e83eb73ad6547c6932703f0b3a7c516",
       "version_major": 2,
       "version_minor": 0
      },
      "text/plain": [
       "VBox(children=(HBox(children=(Button(button_style='danger', description='Arduino', style=ButtonStyle()), Butto…"
      ]
     },
     "metadata": {},
     "output_type": "display_data"
    }
   ],
   "source": [
    "from jup_ardu import *\n",
    "from py_ardu import *\n",
    "\n",
    "mon_interface = Interface('COM21', [(),()], 'points')\n",
    "\n",
    "def led_rouge():\n",
    "    print(set_command(mon_interface.arduino, 'rouge'))\n",
    "    \n",
    "def led_verte():\n",
    "    print(set_command(mon_interface.arduino, 'verte'))\n",
    "    \n",
    "def stop():\n",
    "    print(set_command(mon_interface.arduino, 'stop'))\n",
    "    \n",
    "# ---    \n",
    "mon_interface.add_bouton('Led rouge', led_rouge)\n",
    "mon_interface.add_bouton('Led verte', led_verte)\n",
    "mon_interface.add_bouton('Stop', stop)\n",
    "mon_interface.affiche()"
   ]
  },
  {
   "cell_type": "code",
   "execution_count": 3,
   "metadata": {},
   "outputs": [
    {
     "data": {
      "application/vnd.jupyter.widget-view+json": {
       "model_id": "4bfc39c6441b488da99e83fff4b7fe72",
       "version_major": 2,
       "version_minor": 0
      },
      "text/plain": [
       "VBox(children=(HBox(children=(Button(button_style='danger', description='Arduino', style=ButtonStyle()), Butto…"
      ]
     },
     "metadata": {},
     "output_type": "display_data"
    }
   ],
   "source": [
    "from jup_ardu import *\n",
    "from py_ardu import *\n",
    "\n",
    "mon_interface = Interface('COM21', [(),()], 'points')\n",
    "\n",
    "def led_rouge():\n",
    "    result =  set_command(mon_interface.arduino, 'rouge')\n",
    "    if result == 'led rouge allumee':\n",
    "        bouton_rouge.button_style = 'danger'\n",
    "    else:\n",
    "        bouton_rouge.button_style = ''\n",
    "    print(result)\n",
    "        \n",
    "def led_verte():\n",
    "    result = set_command(mon_interface.arduino, 'verte')\n",
    "    if result == 'led verte allumee':\n",
    "        bouton_vert.button_style = 'success'\n",
    "    else:\n",
    "        bouton_vert.button_style = ''\n",
    "    print(result)\n",
    "    \n",
    "def stop():\n",
    "    result = set_command(mon_interface.arduino, 'stop')\n",
    "    if result == 'leds eteintes':\n",
    "        bouton_rouge.button_style = ''\n",
    "        bouton_vert.button_style = ''\n",
    "    print(result)\n",
    "    \n",
    "# ---    \n",
    "bouton_rouge = mon_interface.add_bouton('Led rouge', led_rouge)\n",
    "bouton_vert = mon_interface.add_bouton('Led verte', led_verte)\n",
    "bouton_stop = mon_interface.add_bouton('Stop', stop)\n",
    "mon_interface.affiche()"
   ]
  },
  {
   "cell_type": "code",
   "execution_count": null,
   "metadata": {},
   "outputs": [],
   "source": []
  }
 ],
 "metadata": {
  "kernelspec": {
   "display_name": "Python 3",
   "language": "python",
   "name": "python3"
  },
  "language_info": {
   "codemirror_mode": {
    "name": "ipython",
    "version": 3
   },
   "file_extension": ".py",
   "mimetype": "text/x-python",
   "name": "python",
   "nbconvert_exporter": "python",
   "pygments_lexer": "ipython3",
   "version": "3.7.3"
  }
 },
 "nbformat": 4,
 "nbformat_minor": 4
}
