{
 "cells": [
  {
   "cell_type": "code",
   "execution_count": 1,
   "id": "4b44495c-e5a0-4dda-afef-8df7f776d902",
   "metadata": {
    "tags": []
   },
   "outputs": [],
   "source": [
    "import sys\n",
    "sys.path.insert(0, \"..\")\n",
    "\n",
    "from pyduino import *\n",
    "from juduino import *"
   ]
  },
  {
   "cell_type": "code",
   "execution_count": 2,
   "id": "45c603ee-c3ec-45b9-b32a-f295d6ac17ea",
   "metadata": {
    "tags": []
   },
   "outputs": [
    {
     "data": {
      "text/plain": [
       "['COM1', 'COM21']"
      ]
     },
     "execution_count": 2,
     "metadata": {},
     "output_type": "execute_result"
    }
   ],
   "source": [
    "liste_ports()"
   ]
  },
  {
   "cell_type": "code",
   "execution_count": 3,
   "id": "212cd966-7a3c-409e-8e3b-b534fb434815",
   "metadata": {
    "tags": []
   },
   "outputs": [
    {
     "data": {
      "application/vnd.jupyter.widget-view+json": {
       "model_id": "381bcae2ec5b45c8919a3db2a718abfd",
       "version_major": 2,
       "version_minor": 0
      },
      "text/plain": [
       "VBox(children=(HBox(children=(Button(button_style='danger', description='Arduino', style=ButtonStyle()), Text(…"
      ]
     },
     "metadata": {},
     "output_type": "display_data"
    }
   ],
   "source": [
    "def fait_les_mesures():\n",
    "    b = saisie.value\n",
    "    print(b)\n",
    "    a = mon_interface.set_command('Bonjour')\n",
    "    print(a)\n",
    "    \n",
    "\n",
    "mon_interface = Interface('COM21', [('V', 'mL'), ('P', 'Pa')], 'points')\n",
    "saisie = mon_interface.add_saisie('Valeur saisie', '50')\n",
    "mon_interface.add_bouton('Mesure', fait_les_mesures)\n",
    "\n",
    "mon_interface.affiche()"
   ]
  },
  {
   "cell_type": "code",
   "execution_count": null,
   "id": "20a42c96-09ef-49bc-96fb-5387434fe63f",
   "metadata": {},
   "outputs": [],
   "source": []
  }
 ],
 "metadata": {
  "kernelspec": {
   "display_name": "Python 3",
   "language": "python",
   "name": "python3"
  },
  "language_info": {
   "codemirror_mode": {
    "name": "ipython",
    "version": 3
   },
   "file_extension": ".py",
   "mimetype": "text/x-python",
   "name": "python",
   "nbconvert_exporter": "python",
   "pygments_lexer": "ipython3",
   "version": "3.7.3"
  }
 },
 "nbformat": 4,
 "nbformat_minor": 5
}
