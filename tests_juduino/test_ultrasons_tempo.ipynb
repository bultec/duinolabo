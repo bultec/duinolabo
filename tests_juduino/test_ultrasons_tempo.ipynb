{
 "cells": [
  {
   "cell_type": "markdown",
   "id": "110461b9-5c53-4870-a8e6-7569c1caf7d4",
   "metadata": {},
   "source": [
    "## Mesures temporelles - durée de parcours d'une onde ultrasonore\n",
    "\n",
    "Lorsque l'utilisateur clique sur le bouton `Mesure` le programme :\n",
    " - envoie la commande `mesure` à la carte _Arduino_,\n",
    " - reçoit des données sur la liaison série et les affiche sous forme de graphe $E=f(t)$."
   ]
  },
  {
   "cell_type": "code",
   "execution_count": 2,
   "id": "fb0ac51c",
   "metadata": {},
   "outputs": [
    {
     "data": {
      "text/plain": [
       "['COM3']"
      ]
     },
     "execution_count": 2,
     "metadata": {},
     "output_type": "execute_result"
    }
   ],
   "source": [
    "liste_ports()"
   ]
  },
  {
   "cell_type": "code",
   "execution_count": 3,
   "id": "169afeb4-ad18-4700-9ae5-cebab85262ee",
   "metadata": {
    "tags": []
   },
   "outputs": [
    {
     "data": {
      "application/vnd.jupyter.widget-view+json": {
       "model_id": "42344826e44347b391e4fe9261f1d715",
       "version_major": 2,
       "version_minor": 0
      },
      "text/plain": [
       "VBox(children=(HBox(children=(Button(button_style='danger', description='Arduino', style=ButtonStyle()), Butto…"
      ]
     },
     "metadata": {},
     "output_type": "display_data"
    }
   ],
   "source": [
    "import sys\n",
    "sys.path.insert(0, \"..\")\n",
    "\n",
    "from pduino import *\n",
    "from juduino import *\n",
    "\n",
    "# modifiez le port en fonction de votre configuration\n",
    "mon_interface = Interface('COM3', [('t', 'ms'), ('E', '')], 'temporel', False)\n",
    "\n",
    "def mesure():\n",
    "    # exécuté lorsque l'utilisateur clique sur le bouton 'Mesure'\n",
    "    global t, E\n",
    "    t, E = mon_interface.mesures_tempo('mesure', 1)\n",
    "    \n",
    "def sauvegarde():\n",
    "    # exécuté lorsque l'utilisateur clique sur le bouton 'Sauvegarde'\n",
    "    fichier = saisie.value + '.csv'\n",
    "    ecrit_fichier_csv(fichier, t, E)\n",
    "    print('fichier {} créé'.format(fichier))\n",
    "    \n",
    "# --- programme principal\n",
    "mon_interface.add_bouton('Mesure', mesure)\n",
    "saisie = mon_interface.add_saisie('Nom Fichier', 'mesures_us')\n",
    "mon_interface.add_bouton('Sauvegarde', sauvegarde)\n",
    "mon_interface.affiche()"
   ]
  },
  {
   "cell_type": "code",
   "execution_count": 6,
   "id": "051dd022-2ba9-4ed3-9685-b6643e216919",
   "metadata": {},
   "outputs": [],
   "source": [
    "import matplotlib.pyplot as plt\n",
    "from IPython.display import display, Math, Latex\n",
    "from pduino import lit_fichier\n",
    "import numpy as np\n",
    "\n",
    "def recherche_front_montant(t, E):\n",
    "    for i in range(len(E)-1):\n",
    "        if (int(E[i+1]) == 1 ) and (int(E[i]) == 0 ):\n",
    "            m_t = (t[i] + t[i+1]) / 2\n",
    "            return m_t\n",
    "    return None\n",
    "\n",
    "def recherche_front_descendant(t, E):\n",
    "    for i in range(len(E)-1):\n",
    "        if (int(E[i+1]) == 0 ) and (int(E[i]) == 1 ):\n",
    "            m_t = (t[i] + t[i+1]) / 2\n",
    "            return m_t\n",
    "    return None"
   ]
  },
  {
   "cell_type": "markdown",
   "id": "0ea3fcca-35dd-4456-8888-ad74f5da812f",
   "metadata": {},
   "source": [
    "## Lecture du fichier de mesures et affichage du graphique $E = f(t)$"
   ]
  },
  {
   "cell_type": "code",
   "execution_count": 8,
   "id": "cf056b5d-c8a0-4950-b3cd-b398c7c48215",
   "metadata": {
    "tags": []
   },
   "outputs": [
    {
     "data": {
      "image/png": "[encoded data removed]",
      "text/plain": [
       "<Figure size 432x288 with 1 Axes>"
      ]
     },
     "metadata": {
      "needs_background": "light"
     },
     "output_type": "display_data"
    }
   ],
   "source": [
    "# Lit le fichier de mesures\n",
    "t, E = np.array(lit_fichier('mesures_us.csv'))\n",
    "\n",
    "fig_c = plt.figure(\"Célérité des ultrasons\", figsize=(6, 4))\n",
    "plt.title(\"Célérité des ultrasons dans l'air\")\n",
    "plt.plot(t*1000, E, marker = '*', label = 'E')\n",
    "plt.grid()\n",
    "plt.xlabel('t (ms)')\n",
    "plt.ylabel ('E (sans unité)')\n",
    "plt.legend()\n",
    "plt.show()"
   ]
  },
  {
   "cell_type": "markdown",
   "id": "3aa4c7dc-d415-4348-b2d9-af8c9a11baeb",
   "metadata": {},
   "source": [
    "## Détermination de la célérité du son"
   ]
  },
  {
   "cell_type": "code",
   "execution_count": 6,
   "id": "cb6cee74-a745-45aa-9891-0899ed74b264",
   "metadata": {
    "tags": []
   },
   "outputs": [
    {
     "name": "stdout",
     "output_type": "stream",
     "text": [
      "V = 350.9 m.s-1\n"
     ]
    }
   ],
   "source": [
    "# --- calcul de la célérité du son ---\n",
    "d = 40e-2\n",
    "t1 = recherche_front_montant(t, E)\n",
    "t2 = recherche_front_descendant(t, E)\n",
    "dt =  t2 - t1\n",
    "v = 2 * d / dt\n",
    "print('V = {} m.s-1'.format(round(v, 1)))"
   ]
  }
 ],
 "metadata": {
  "kernelspec": {
   "display_name": "Python 3 (ipykernel)",
   "language": "python",
   "name": "python3"
  },
  "language_info": {
   "codemirror_mode": {
    "name": "ipython",
    "version": 3
   },
   "file_extension": ".py",
   "mimetype": "text/x-python",
   "name": "python",
   "nbconvert_exporter": "python",
   "pygments_lexer": "ipython3",
   "version": "3.9.4"
  },
  "widgets": {
   "application/vnd.jupyter.widget-state+json": {
    "state": {
     "06773149c4f247b0aa4884ca14c57f3e": {
      "model_module": "@jupyter-widgets/controls",
      "model_module_version": "2.0.0",
      "model_name": "IntProgressModel",
      "state": {
       "description": "Loading:",
       "layout": "IPY_MODEL_5a5bf7bbcfaf4118aa6e6582d0eb148d",
       "max": 10,
       "style": "IPY_MODEL_95174e78d6ab4226abb135ab0612e1f8"
      }
     },
     "135f5a5ed6f34272a65016b0de3d282c": {
      "model_module": "@jupyter-widgets/controls",
      "model_module_version": "2.0.0",
      "model_name": "TextModel",
      "state": {
       "description": "Nom Fichier",
       "layout": "IPY_MODEL_dba15a52f7eb4a43ba012aa7f7dff7e6",
       "style": "IPY_MODEL_22a9e4a73c5a4bb6871e1b1249f47005",
       "value": "mesures_us"
      }
     },
     "15cfc3590d57463999f14a4b224b1ee9": {
      "model_module": "@jupyter-widgets/base",
      "model_module_version": "2.0.0",
      "model_name": "LayoutModel",
      "state": {}
     },
     "1a0540b31d7940e8b54e336518293dc9": {
      "model_module": "@jupyter-widgets/controls",
      "model_module_version": "2.0.0",
      "model_name": "ButtonStyleModel",
      "state": {
       "font_family": null,
       "font_size": null,
       "font_style": null,
       "font_variant": null,
       "font_weight": null,
       "text_color": null,
       "text_decoration": null
      }
     },
     "22a9e4a73c5a4bb6871e1b1249f47005": {
      "model_module": "@jupyter-widgets/controls",
      "model_module_version": "2.0.0",
      "model_name": "TextStyleModel",
      "state": {
       "description_width": "initial",
       "font_size": null,
       "text_color": null
      }
     },
     "2c1eb4e9d8cc44b489ee8bb5ff0acb7f": {
      "model_module": "@jupyter-widgets/base",
      "model_module_version": "2.0.0",
      "model_name": "LayoutModel",
      "state": {}
     },
     "3ff21ba75a2141318ebcece4b52a084a": {
      "model_module": "@jupyter-widgets/controls",
      "model_module_version": "2.0.0",
      "model_name": "VBoxModel",
      "state": {
       "children": [
        "IPY_MODEL_b7846283cb184db484e4b728fbd5d986",
        "IPY_MODEL_662a7b0e4b694e4a84932c6282f7e06b"
       ],
       "layout": "IPY_MODEL_870e13f4a75e406ba627ba8ac08a9038"
      }
     },
     "44508cb1f5954ea2ba3aba72ed853253": {
      "model_module": "@jupyter-widgets/base",
      "model_module_version": "2.0.0",
      "model_name": "LayoutModel",
      "state": {}
     },
     "52c6e4e749ca40a4b467c7a10a76c155": {
      "model_module": "@jupyter-widgets/base",
      "model_module_version": "2.0.0",
      "model_name": "LayoutModel",
      "state": {}
     },
     "5a5bf7bbcfaf4118aa6e6582d0eb148d": {
      "model_module": "@jupyter-widgets/base",
      "model_module_version": "2.0.0",
      "model_name": "LayoutModel",
      "state": {}
     },
     "662a7b0e4b694e4a84932c6282f7e06b": {
      "model_module": "@jupyter-widgets/controls",
      "model_module_version": "2.0.0",
      "model_name": "HBoxModel",
      "state": {
       "children": [
        "IPY_MODEL_8581d6ce04a1421596ad035a14122942",
        "IPY_MODEL_9e7f4fc27d184dccbf6688eb4a1f5fc3"
       ],
       "layout": "IPY_MODEL_52c6e4e749ca40a4b467c7a10a76c155"
      }
     },
     "681824c7b1df4282ade8e5ff0e4fdbc5": {
      "model_module": "@jupyter-widgets/base",
      "model_module_version": "2.0.0",
      "model_name": "LayoutModel",
      "state": {
       "margin": "20px 0 0 20px"
      }
     },
     "8581d6ce04a1421596ad035a14122942": {
      "model_module": "@jupyter-widgets/output",
      "model_module_version": "1.0.0",
      "model_name": "OutputModel",
      "state": {
       "layout": "IPY_MODEL_15cfc3590d57463999f14a4b224b1ee9",
       "outputs": [
        {
         "data": {
          "image/png": "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\n",
          "text/plain": "<Figure size 900x700 with 1 Axes>"
         },
         "metadata": {},
         "output_type": "display_data"
        }
       ]
      }
     },
     "870e13f4a75e406ba627ba8ac08a9038": {
      "model_module": "@jupyter-widgets/base",
      "model_module_version": "2.0.0",
      "model_name": "LayoutModel",
      "state": {}
     },
     "8734ccc0a01243db948307e31a16b24b": {
      "model_module": "@jupyter-widgets/base",
      "model_module_version": "2.0.0",
      "model_name": "LayoutModel",
      "state": {}
     },
     "8f246b0ff40c43fda90b4d63fcec88a1": {
      "model_module": "@jupyter-widgets/base",
      "model_module_version": "2.0.0",
      "model_name": "LayoutModel",
      "state": {}
     },
     "94fcd68babab411794079de326d07d05": {
      "model_module": "@jupyter-widgets/controls",
      "model_module_version": "2.0.0",
      "model_name": "ButtonModel",
      "state": {
       "description": "Sauvegarde",
       "layout": "IPY_MODEL_2c1eb4e9d8cc44b489ee8bb5ff0acb7f",
       "style": "IPY_MODEL_fedd3d5bf1e340b4b704d739318cfbc3",
       "tooltip": null
      }
     },
     "95174e78d6ab4226abb135ab0612e1f8": {
      "model_module": "@jupyter-widgets/controls",
      "model_module_version": "2.0.0",
      "model_name": "ProgressStyleModel",
      "state": {
       "description_width": ""
      }
     },
     "9e7f4fc27d184dccbf6688eb4a1f5fc3": {
      "model_module": "@jupyter-widgets/output",
      "model_module_version": "1.0.0",
      "model_name": "OutputModel",
      "state": {
       "layout": "IPY_MODEL_681824c7b1df4282ade8e5ff0e4fdbc5",
       "outputs": [
        {
         "name": "stdout",
         "output_type": "stream",
         "text": "fichier mesures_us.csv créé\n"
        }
       ]
      }
     },
     "b2078da3430144aabf186cd61251d874": {
      "model_module": "@jupyter-widgets/controls",
      "model_module_version": "2.0.0",
      "model_name": "ButtonModel",
      "state": {
       "button_style": "success",
       "description": "Arduino",
       "icon": "check",
       "layout": "IPY_MODEL_8f246b0ff40c43fda90b4d63fcec88a1",
       "style": "IPY_MODEL_1a0540b31d7940e8b54e336518293dc9",
       "tooltip": null
      }
     },
     "b56c9f55ffbf4d6295be2d0703acded5": {
      "model_module": "@jupyter-widgets/controls",
      "model_module_version": "2.0.0",
      "model_name": "ButtonStyleModel",
      "state": {
       "font_family": null,
       "font_size": null,
       "font_style": null,
       "font_variant": null,
       "font_weight": null,
       "text_color": null,
       "text_decoration": null
      }
     },
     "b7846283cb184db484e4b728fbd5d986": {
      "model_module": "@jupyter-widgets/controls",
      "model_module_version": "2.0.0",
      "model_name": "HBoxModel",
      "state": {
       "children": [
        "IPY_MODEL_b2078da3430144aabf186cd61251d874",
        "IPY_MODEL_e6d862b80eef46ebadb18dd0a9b46617",
        "IPY_MODEL_135f5a5ed6f34272a65016b0de3d282c",
        "IPY_MODEL_94fcd68babab411794079de326d07d05",
        "IPY_MODEL_06773149c4f247b0aa4884ca14c57f3e"
       ],
       "layout": "IPY_MODEL_8734ccc0a01243db948307e31a16b24b"
      }
     },
     "dba15a52f7eb4a43ba012aa7f7dff7e6": {
      "model_module": "@jupyter-widgets/base",
      "model_module_version": "2.0.0",
      "model_name": "LayoutModel",
      "state": {
       "width": "200px"
      }
     },
     "e6d862b80eef46ebadb18dd0a9b46617": {
      "model_module": "@jupyter-widgets/controls",
      "model_module_version": "2.0.0",
      "model_name": "ButtonModel",
      "state": {
       "description": "Mesure",
       "layout": "IPY_MODEL_44508cb1f5954ea2ba3aba72ed853253",
       "style": "IPY_MODEL_b56c9f55ffbf4d6295be2d0703acded5",
       "tooltip": null
      }
     },
     "fedd3d5bf1e340b4b704d739318cfbc3": {
      "model_module": "@jupyter-widgets/controls",
      "model_module_version": "2.0.0",
      "model_name": "ButtonStyleModel",
      "state": {
       "font_family": null,
       "font_size": null,
       "font_style": null,
       "font_variant": null,
       "font_weight": null,
       "text_color": null,
       "text_decoration": null
      }
     }
    },
    "version_major": 2,
    "version_minor": 0
   }
  }
 },
 "nbformat": 4,
 "nbformat_minor": 5
}
