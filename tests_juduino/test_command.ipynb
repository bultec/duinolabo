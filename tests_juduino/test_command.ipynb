{
 "cells": [
  {
   "cell_type": "code",
   "execution_count": null,
   "metadata": {
    "tags": []
   },
   "outputs": [],
   "source": [
    "import sys\n",
    "sys.path.insert(0, \"../pyduino\")\n",
    "\n",
    "from pyduino import *\n",
    "from juduino import *\n",
    "\n",
    "# modifiez le port en fonction de votre configuration\n",
    "mon_interface = Interface('COM8', [(),()], 'points')\n",
    "\n",
    "def led_rouge():\n",
    "    # exécuté lorsque l'utilisateur clique sur le bouton 'Led rouge'\n",
    "    print(mon_interface.arduino.set_command('rouge'))\n",
    "    \n",
    "def led_verte():\n",
    "    # exécuté lorsque l'utilisateur clique sur le bouton 'Led verte'\n",
    "    print(mon_interface.arduino.set_command('verte'))\n",
    "    \n",
    "def stop():\n",
    "    # exécuté lorsque l'utilisateur clique sur le bouton 'Stop'\n",
    "    print(mon_interface.arduino.set_command('stop'))\n",
    "    \n",
    "# --- programme principal  \n",
    "mon_interface.add_bouton('Led rouge', led_rouge)\n",
    "mon_interface.add_bouton('Led verte', led_verte)\n",
    "mon_interface.add_bouton('Stop', stop)\n",
    "mon_interface.affiche()"
   ]
  },
  {
   "cell_type": "code",
   "execution_count": null,
   "metadata": {
    "tags": []
   },
   "outputs": [],
   "source": [
    "from pyduino import *\n",
    "from juduino import *\n",
    "\n",
    "# modifiez le port en fonction de votre configuration\n",
    "mon_interface = Interface('COM8', [(),()], 'points')\n",
    "\n",
    "def led_rouge():\n",
    "    # exécuté lorsque l'utilisateur clique sur le bouton 'Led rouge'\n",
    "    result =  mon_interface.set_command('rouge')\n",
    "    if result == 'led rouge allumée':\n",
    "        bouton_rouge.button_style = 'danger'\n",
    "    else:\n",
    "        bouton_rouge.button_style = ''\n",
    "    print(result)\n",
    "        \n",
    "def led_verte():\n",
    "    # exécuté lorsque l'utilisateur clique sur le bouton 'Led verte'\n",
    "    result = mon_interface.set_command('verte')\n",
    "    if result == 'led verte allumée':\n",
    "        bouton_vert.button_style = 'success'\n",
    "    else:\n",
    "        bouton_vert.button_style = ''\n",
    "    print(result)\n",
    "    \n",
    "def stop():\n",
    "    # exécuté lorsque l'utilisateur clique sur le bouton 'Stop'\n",
    "    result = mon_interface.set_command('stop')\n",
    "    if result == 'leds éteintes':\n",
    "        bouton_rouge.button_style = ''\n",
    "        bouton_vert.button_style = ''\n",
    "    print(result)\n",
    "    \n",
    "# --- programme principal    \n",
    "bouton_rouge = mon_interface.add_bouton('Led rouge', led_rouge)\n",
    "bouton_vert = mon_interface.add_bouton('Led verte', led_verte)\n",
    "bouton_stop = mon_interface.add_bouton('Stop', stop)\n",
    "mon_interface.affiche()"
   ]
  },
  {
   "cell_type": "code",
   "execution_count": null,
   "metadata": {},
   "outputs": [],
   "source": []
  }
 ],
 "metadata": {
  "kernelspec": {
   "display_name": "Python 3",
   "language": "python",
   "name": "python3"
  },
  "language_info": {
   "codemirror_mode": {
    "name": "ipython",
    "version": 3
   },
   "file_extension": ".py",
   "mimetype": "text/x-python",
   "name": "python",
   "nbconvert_exporter": "python",
   "pygments_lexer": "ipython3",
   "version": "3.7.3"
  },
  "widgets": {
   "application/vnd.jupyter.widget-state+json": {
    "state": {
     "06dd3c81c9cc4a6aa466fed57eaa53d5": {
      "model_module": "@jupyter-widgets/base",
      "model_module_version": "2.0.0",
      "model_name": "LayoutModel",
      "state": {}
     },
     "07a35837b8da4f01ba61c7f1b7323a34": {
      "model_module": "@jupyter-widgets/base",
      "model_module_version": "2.0.0",
      "model_name": "LayoutModel",
      "state": {}
     },
     "0e7f1c36e6de4475b7d80f2736edd9dc": {
      "model_module": "@jupyter-widgets/base",
      "model_module_version": "2.0.0",
      "model_name": "LayoutModel",
      "state": {}
     },
     "0f343c40f3dd45ac8fb2fae3a77ed5a6": {
      "model_module": "@jupyter-widgets/controls",
      "model_module_version": "2.0.0",
      "model_name": "ButtonStyleModel",
      "state": {
       "font_family": null,
       "font_size": null,
       "font_style": null,
       "font_variant": null,
       "font_weight": null,
       "text_color": null,
       "text_decoration": null
      }
     },
     "119308099f5c47b3bf31cefb486d16b1": {
      "model_module": "@jupyter-widgets/controls",
      "model_module_version": "2.0.0",
      "model_name": "ButtonModel",
      "state": {
       "description": "Led rouge",
       "layout": "IPY_MODEL_23ccb00ae1a3496ebce0d13261c8f307",
       "style": "IPY_MODEL_867f5637f3474de6ae9762d6b8f6245c",
       "tooltip": null
      }
     },
     "1534050bea3d4a3d8d44c3c7d9ed8e33": {
      "model_module": "@jupyter-widgets/controls",
      "model_module_version": "2.0.0",
      "model_name": "ButtonModel",
      "state": {
       "description": "Led rouge",
       "layout": "IPY_MODEL_eb598a93446641fbb812a19cec5c73fd",
       "style": "IPY_MODEL_ef0dd3e33dea43aa8f406d25e08d4f48",
       "tooltip": null
      }
     },
     "15364c64f78148ff97418dd9d9d0d3ee": {
      "model_module": "@jupyter-widgets/controls",
      "model_module_version": "2.0.0",
      "model_name": "ProgressStyleModel",
      "state": {
       "description_width": ""
      }
     },
     "174870c867894ba48f79fa2d6419b64a": {
      "model_module": "@jupyter-widgets/controls",
      "model_module_version": "2.0.0",
      "model_name": "ButtonModel",
      "state": {
       "description": "Stop",
       "layout": "IPY_MODEL_78effc196bf74d32929c61e15628f2f4",
       "style": "IPY_MODEL_a0fb05a80fae4220a4613ad42cfc5416",
       "tooltip": null
      }
     },
     "18f4792dd98747a0b8fec42950935688": {
      "model_module": "@jupyter-widgets/controls",
      "model_module_version": "2.0.0",
      "model_name": "VBoxModel",
      "state": {
       "children": [
        "IPY_MODEL_83966cd135934724a7269470a3809091",
        "IPY_MODEL_7dfc922c5c314d86b4c834ebb1ec6f33"
       ],
       "layout": "IPY_MODEL_7d8a91f1ba9646f4bb7ed0c28d062f82"
      }
     },
     "23ccb00ae1a3496ebce0d13261c8f307": {
      "model_module": "@jupyter-widgets/base",
      "model_module_version": "2.0.0",
      "model_name": "LayoutModel",
      "state": {}
     },
     "2cdcfcffc6754631a6e8883ea674864c": {
      "model_module": "@jupyter-widgets/controls",
      "model_module_version": "2.0.0",
      "model_name": "IntProgressModel",
      "state": {
       "description": "Loading:",
       "layout": "IPY_MODEL_06dd3c81c9cc4a6aa466fed57eaa53d5",
       "max": 10,
       "style": "IPY_MODEL_15364c64f78148ff97418dd9d9d0d3ee"
      }
     },
     "2f12cba4462d4592a0ebaf131e941a4b": {
      "model_module": "@jupyter-widgets/base",
      "model_module_version": "2.0.0",
      "model_name": "LayoutModel",
      "state": {}
     },
     "38c74add12d84f3b9b8c92fcb76b6eab": {
      "model_module": "@jupyter-widgets/base",
      "model_module_version": "2.0.0",
      "model_name": "LayoutModel",
      "state": {}
     },
     "3a68ec700b7f4cbeaae0639e1d31852b": {
      "model_module": "@jupyter-widgets/controls",
      "model_module_version": "2.0.0",
      "model_name": "ButtonStyleModel",
      "state": {
       "font_family": null,
       "font_size": null,
       "font_style": null,
       "font_variant": null,
       "font_weight": null,
       "text_color": null,
       "text_decoration": null
      }
     },
     "43a4ad7f6b574d648dcb08a49b1c8330": {
      "model_module": "@jupyter-widgets/base",
      "model_module_version": "2.0.0",
      "model_name": "LayoutModel",
      "state": {}
     },
     "45336ca63b3c43fca5c520b6d56a66cb": {
      "model_module": "@jupyter-widgets/output",
      "model_module_version": "1.0.0",
      "model_name": "OutputModel",
      "state": {
       "layout": "IPY_MODEL_4c95fdf816874c4ab92e2dc805325200",
       "outputs": [
        {
         "name": "stdout",
         "output_type": "stream",
         "text": "led rouge allumée\n"
        }
       ]
      }
     },
     "4b588040fd5746f386e1198fda3700ed": {
      "model_module": "@jupyter-widgets/controls",
      "model_module_version": "2.0.0",
      "model_name": "ButtonStyleModel",
      "state": {
       "font_family": null,
       "font_size": null,
       "font_style": null,
       "font_variant": null,
       "font_weight": null,
       "text_color": null,
       "text_decoration": null
      }
     },
     "4c95fdf816874c4ab92e2dc805325200": {
      "model_module": "@jupyter-widgets/base",
      "model_module_version": "2.0.0",
      "model_name": "LayoutModel",
      "state": {
       "margin": "20px 0 0 20px"
      }
     },
     "4e13804e46a14db0be51c1af5e829b05": {
      "model_module": "@jupyter-widgets/controls",
      "model_module_version": "2.0.0",
      "model_name": "ButtonModel",
      "state": {
       "description": "Stop",
       "layout": "IPY_MODEL_38c74add12d84f3b9b8c92fcb76b6eab",
       "style": "IPY_MODEL_4b588040fd5746f386e1198fda3700ed",
       "tooltip": null
      }
     },
     "55924ea09e1e4c94bd599b269ea89feb": {
      "model_module": "@jupyter-widgets/base",
      "model_module_version": "2.0.0",
      "model_name": "LayoutModel",
      "state": {}
     },
     "5f83ae9da44c4ffdb6e386b4fcd6e0ce": {
      "model_module": "@jupyter-widgets/controls",
      "model_module_version": "2.0.0",
      "model_name": "ButtonStyleModel",
      "state": {
       "font_family": null,
       "font_size": null,
       "font_style": null,
       "font_variant": null,
       "font_weight": null,
       "text_color": null,
       "text_decoration": null
      }
     },
     "6a24fea0fc10476d91b8a59e4c4a7500": {
      "model_module": "@jupyter-widgets/output",
      "model_module_version": "1.0.0",
      "model_name": "OutputModel",
      "state": {
       "layout": "IPY_MODEL_6c63ccd4e2b940cba009e1d1ca0d5fa2",
       "outputs": [
        {
         "name": "stdout",
         "output_type": "stream",
         "text": "led rouge allumée\nled verte allumée\nleds éteintes\n"
        }
       ]
      }
     },
     "6c63ccd4e2b940cba009e1d1ca0d5fa2": {
      "model_module": "@jupyter-widgets/base",
      "model_module_version": "2.0.0",
      "model_name": "LayoutModel",
      "state": {
       "margin": "20px 0 0 20px"
      }
     },
     "7408036a5dae4833ae3eb0701870233d": {
      "model_module": "@jupyter-widgets/base",
      "model_module_version": "2.0.0",
      "model_name": "LayoutModel",
      "state": {}
     },
     "78effc196bf74d32929c61e15628f2f4": {
      "model_module": "@jupyter-widgets/base",
      "model_module_version": "2.0.0",
      "model_name": "LayoutModel",
      "state": {}
     },
     "7b1ef8df9c414a4f85cd88bceceb1355": {
      "model_module": "@jupyter-widgets/controls",
      "model_module_version": "2.0.0",
      "model_name": "ButtonModel",
      "state": {
       "description": "Led verte",
       "layout": "IPY_MODEL_2f12cba4462d4592a0ebaf131e941a4b",
       "style": "IPY_MODEL_90ab15edb97044289610c72f7ab7b0f0",
       "tooltip": null
      }
     },
     "7d8a91f1ba9646f4bb7ed0c28d062f82": {
      "model_module": "@jupyter-widgets/base",
      "model_module_version": "2.0.0",
      "model_name": "LayoutModel",
      "state": {}
     },
     "7dfc922c5c314d86b4c834ebb1ec6f33": {
      "model_module": "@jupyter-widgets/controls",
      "model_module_version": "2.0.0",
      "model_name": "HBoxModel",
      "state": {
       "children": [
        "IPY_MODEL_b1202f2d4b60411d99fde02feb0b24a1",
        "IPY_MODEL_6a24fea0fc10476d91b8a59e4c4a7500"
       ],
       "layout": "IPY_MODEL_55924ea09e1e4c94bd599b269ea89feb"
      }
     },
     "7f1c696ec7db4af4b62e141b53346c8a": {
      "model_module": "@jupyter-widgets/output",
      "model_module_version": "1.0.0",
      "model_name": "OutputModel",
      "state": {
       "layout": "IPY_MODEL_82090ddc49b64f7bb41524b6cd25e455"
      }
     },
     "82090ddc49b64f7bb41524b6cd25e455": {
      "model_module": "@jupyter-widgets/base",
      "model_module_version": "2.0.0",
      "model_name": "LayoutModel",
      "state": {}
     },
     "820afe61e6ca4f33b5dd5546606b4700": {
      "model_module": "@jupyter-widgets/controls",
      "model_module_version": "2.0.0",
      "model_name": "VBoxModel",
      "state": {
       "children": [
        "IPY_MODEL_fcd2a08ef538465bbb38114c7f164cba",
        "IPY_MODEL_c359f32a780743aa9fad384ecd9bae09"
       ],
       "layout": "IPY_MODEL_d8a267cbaa14484291f417984060fb31"
      }
     },
     "83966cd135934724a7269470a3809091": {
      "model_module": "@jupyter-widgets/controls",
      "model_module_version": "2.0.0",
      "model_name": "HBoxModel",
      "state": {
       "children": [
        "IPY_MODEL_a617974adf354e1baab587cb0feabb3f",
        "IPY_MODEL_119308099f5c47b3bf31cefb486d16b1",
        "IPY_MODEL_87b8df6c2472406d9c77c7c309173402",
        "IPY_MODEL_4e13804e46a14db0be51c1af5e829b05"
       ],
       "layout": "IPY_MODEL_fe157bb29b4b46de99e4505b0924fb5d"
      }
     },
     "867f5637f3474de6ae9762d6b8f6245c": {
      "model_module": "@jupyter-widgets/controls",
      "model_module_version": "2.0.0",
      "model_name": "ButtonStyleModel",
      "state": {
       "font_family": null,
       "font_size": null,
       "font_style": null,
       "font_variant": null,
       "font_weight": null,
       "text_color": null,
       "text_decoration": null
      }
     },
     "87b8df6c2472406d9c77c7c309173402": {
      "model_module": "@jupyter-widgets/controls",
      "model_module_version": "2.0.0",
      "model_name": "ButtonModel",
      "state": {
       "description": "Led verte",
       "layout": "IPY_MODEL_e50127d1b07c41fe807ce88056d7959f",
       "style": "IPY_MODEL_0f343c40f3dd45ac8fb2fae3a77ed5a6",
       "tooltip": null
      }
     },
     "8aa49c8a342d4683986e0337e95086f4": {
      "model_module": "@jupyter-widgets/controls",
      "model_module_version": "2.0.0",
      "model_name": "ProgressStyleModel",
      "state": {
       "description_width": ""
      }
     },
     "90ab15edb97044289610c72f7ab7b0f0": {
      "model_module": "@jupyter-widgets/controls",
      "model_module_version": "2.0.0",
      "model_name": "ButtonStyleModel",
      "state": {
       "font_family": null,
       "font_size": null,
       "font_style": null,
       "font_variant": null,
       "font_weight": null,
       "text_color": null,
       "text_decoration": null
      }
     },
     "a0fb05a80fae4220a4613ad42cfc5416": {
      "model_module": "@jupyter-widgets/controls",
      "model_module_version": "2.0.0",
      "model_name": "ButtonStyleModel",
      "state": {
       "font_family": null,
       "font_size": null,
       "font_style": null,
       "font_variant": null,
       "font_weight": null,
       "text_color": null,
       "text_decoration": null
      }
     },
     "a617974adf354e1baab587cb0feabb3f": {
      "model_module": "@jupyter-widgets/controls",
      "model_module_version": "2.0.0",
      "model_name": "ButtonModel",
      "state": {
       "button_style": "danger",
       "description": "Arduino",
       "layout": "IPY_MODEL_7408036a5dae4833ae3eb0701870233d",
       "style": "IPY_MODEL_3a68ec700b7f4cbeaae0639e1d31852b",
       "tooltip": null
      }
     },
     "b1202f2d4b60411d99fde02feb0b24a1": {
      "model_module": "@jupyter-widgets/output",
      "model_module_version": "1.0.0",
      "model_name": "OutputModel",
      "state": {
       "layout": "IPY_MODEL_43a4ad7f6b574d648dcb08a49b1c8330"
      }
     },
     "bf4accfa92484b1a8d7e228e62d96b36": {
      "model_module": "@jupyter-widgets/controls",
      "model_module_version": "2.0.0",
      "model_name": "ButtonModel",
      "state": {
       "button_style": "success",
       "description": "Arduino",
       "icon": "check",
       "layout": "IPY_MODEL_0e7f1c36e6de4475b7d80f2736edd9dc",
       "style": "IPY_MODEL_5f83ae9da44c4ffdb6e386b4fcd6e0ce",
       "tooltip": null
      }
     },
     "c359f32a780743aa9fad384ecd9bae09": {
      "model_module": "@jupyter-widgets/controls",
      "model_module_version": "2.0.0",
      "model_name": "HBoxModel",
      "state": {
       "children": [
        "IPY_MODEL_7f1c696ec7db4af4b62e141b53346c8a",
        "IPY_MODEL_45336ca63b3c43fca5c520b6d56a66cb"
       ],
       "layout": "IPY_MODEL_07a35837b8da4f01ba61c7f1b7323a34"
      }
     },
     "cccc6ae71dd24ea994be18f68e824d98": {
      "model_module": "@jupyter-widgets/base",
      "model_module_version": "2.0.0",
      "model_name": "LayoutModel",
      "state": {}
     },
     "d8a267cbaa14484291f417984060fb31": {
      "model_module": "@jupyter-widgets/base",
      "model_module_version": "2.0.0",
      "model_name": "LayoutModel",
      "state": {}
     },
     "e50127d1b07c41fe807ce88056d7959f": {
      "model_module": "@jupyter-widgets/base",
      "model_module_version": "2.0.0",
      "model_name": "LayoutModel",
      "state": {}
     },
     "e796aa5781fb4b7a8911a18ecc530992": {
      "model_module": "@jupyter-widgets/controls",
      "model_module_version": "2.0.0",
      "model_name": "IntProgressModel",
      "state": {
       "description": "Loading:",
       "layout": "IPY_MODEL_ff34141bdbca413598692847637a53c9",
       "max": 10,
       "style": "IPY_MODEL_8aa49c8a342d4683986e0337e95086f4"
      }
     },
     "eb598a93446641fbb812a19cec5c73fd": {
      "model_module": "@jupyter-widgets/base",
      "model_module_version": "2.0.0",
      "model_name": "LayoutModel",
      "state": {}
     },
     "ef0dd3e33dea43aa8f406d25e08d4f48": {
      "model_module": "@jupyter-widgets/controls",
      "model_module_version": "2.0.0",
      "model_name": "ButtonStyleModel",
      "state": {
       "font_family": null,
       "font_size": null,
       "font_style": null,
       "font_variant": null,
       "font_weight": null,
       "text_color": null,
       "text_decoration": null
      }
     },
     "fcd2a08ef538465bbb38114c7f164cba": {
      "model_module": "@jupyter-widgets/controls",
      "model_module_version": "2.0.0",
      "model_name": "HBoxModel",
      "state": {
       "children": [
        "IPY_MODEL_bf4accfa92484b1a8d7e228e62d96b36",
        "IPY_MODEL_1534050bea3d4a3d8d44c3c7d9ed8e33",
        "IPY_MODEL_7b1ef8df9c414a4f85cd88bceceb1355",
        "IPY_MODEL_174870c867894ba48f79fa2d6419b64a"
       ],
       "layout": "IPY_MODEL_cccc6ae71dd24ea994be18f68e824d98"
      }
     },
     "fe157bb29b4b46de99e4505b0924fb5d": {
      "model_module": "@jupyter-widgets/base",
      "model_module_version": "2.0.0",
      "model_name": "LayoutModel",
      "state": {}
     },
     "ff34141bdbca413598692847637a53c9": {
      "model_module": "@jupyter-widgets/base",
      "model_module_version": "2.0.0",
      "model_name": "LayoutModel",
      "state": {}
     }
    },
    "version_major": 2,
    "version_minor": 0
   }
  }
 },
 "nbformat": 4,
 "nbformat_minor": 4
}
